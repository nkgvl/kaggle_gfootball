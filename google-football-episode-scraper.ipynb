{
 "cells": [
  {
   "cell_type": "markdown",
   "metadata": {
    "papermill": {
     "duration": 0.011913,
     "end_time": "2020-09-29T15:04:45.375187",
     "exception": false,
     "start_time": "2020-09-29T15:04:45.363274",
     "status": "completed"
    },
    "tags": []
   },
   "source": [
    "This is an edited version of David NQ's Halite Game Scraper at https://www.kaggle.com/david1013/halite-game-scraper\n",
    "\n",
    "Kaggle's API limit for Google Football is yet to be made explicit but in Kaggle Halite the limit of 1000 requests per day was eventually raised to 3600 requests per day max.\n",
    "\n",
    "Rate limits are shared between the ListEpisodes and GetEpisodeReplay endpoints. Exceeding limits repeatedly will lead to temporary and then permanent bans. At some point it is expected Kaggle will remove this public API and provide datasets of episodes.\n",
    "\n",
    "The episodes take a lot of space. In Kaggle Halite, I ended up with 200GB of games. The Football JSON files are **ten times larger** so you may end up with terabytes. If you use this or any scraper, consider posting the dataset to Kaggle Datasets for others to use."
   ]
  },
  {
   "cell_type": "code",
   "execution_count": null,
   "metadata": {
    "_cell_guid": "79c7e3d0-c299-4dcb-8224-4455121ee9b0",
    "_uuid": "d629ff2d2480ee46fbb7e2d37f6b5fab8052498a",
    "execution": {
     "iopub.execute_input": "2020-09-29T15:04:45.402816Z",
     "iopub.status.busy": "2020-09-29T15:04:45.402042Z",
     "iopub.status.idle": "2020-09-29T15:04:45.405063Z",
     "shell.execute_reply": "2020-09-29T15:04:45.405633Z"
    },
    "papermill": {
     "duration": 0.019712,
     "end_time": "2020-09-29T15:04:45.405830",
     "exception": false,
     "start_time": "2020-09-29T15:04:45.386118",
     "status": "completed"
    },
    "tags": []
   },
   "outputs": [],
   "source": [
    "import pandas as pd\n",
    "import numpy as np\n",
    "import os\n",
    "import requests\n",
    "import json\n",
    "import datetime\n",
    "import time"
   ]
  },
  {
   "cell_type": "code",
   "execution_count": 25,
   "metadata": {
    "execution": {
     "iopub.execute_input": "2020-09-29T15:04:45.433079Z",
     "iopub.status.busy": "2020-09-29T15:04:45.432243Z",
     "iopub.status.idle": "2020-09-29T15:04:45.435743Z",
     "shell.execute_reply": "2020-09-29T15:04:45.435124Z"
    },
    "papermill": {
     "duration": 0.019228,
     "end_time": "2020-09-29T15:04:45.435882",
     "exception": false,
     "start_time": "2020-09-29T15:04:45.416654",
     "status": "completed"
    },
    "tags": []
   },
   "outputs": [],
   "source": [
    "MIN_FINAL_RATING = 1300 # top submission in a match must have reached this score\n",
    "num_api_calls_today = 0"
   ]
  },
  {
   "cell_type": "code",
   "execution_count": 26,
   "metadata": {},
   "outputs": [],
   "source": [
    "if not os.path.isdir('./episodes'):\n",
    "    os.mkdir('./episodes/')"
   ]
  },
  {
   "cell_type": "code",
   "execution_count": 27,
   "metadata": {
    "execution": {
     "iopub.execute_input": "2020-09-29T15:04:45.466572Z",
     "iopub.status.busy": "2020-09-29T15:04:45.465813Z",
     "iopub.status.idle": "2020-09-29T15:04:45.486303Z",
     "shell.execute_reply": "2020-09-29T15:04:45.485648Z"
    },
    "papermill": {
     "duration": 0.03957,
     "end_time": "2020-09-29T15:04:45.486436",
     "exception": false,
     "start_time": "2020-09-29T15:04:45.446866",
     "status": "completed"
    },
    "tags": []
   },
   "outputs": [
    {
     "name": "stdout",
     "output_type": "stream",
     "text": [
      "0 games in existing library\n"
     ]
    }
   ],
   "source": [
    "all_files = []\n",
    "for root, dirs, files in os.walk('./episodes/', topdown=False):\n",
    "    all_files.extend(files)\n",
    "seen_episodes = [int(f.split('.')[0]) for f in all_files \n",
    "                      if '.' in f and f.split('.')[0].isdigit() and f.split('.')[1] == 'json']\n",
    "print('{} games in existing library'.format(len(seen_episodes)))"
   ]
  },
  {
   "cell_type": "code",
   "execution_count": 28,
   "metadata": {
    "execution": {
     "iopub.execute_input": "2020-09-29T15:04:45.516612Z",
     "iopub.status.busy": "2020-09-29T15:04:45.515534Z",
     "iopub.status.idle": "2020-09-29T15:04:45.519045Z",
     "shell.execute_reply": "2020-09-29T15:04:45.518302Z"
    },
    "papermill": {
     "duration": 0.020902,
     "end_time": "2020-09-29T15:04:45.519171",
     "exception": false,
     "start_time": "2020-09-29T15:04:45.498269",
     "status": "completed"
    },
    "tags": []
   },
   "outputs": [],
   "source": [
    "NUM_TEAMS = 1\n",
    "EPISODES = 600 \n",
    "\n",
    "BUFFER = 1\n",
    "\n",
    "base_url = \"https://www.kaggle.com/requests/EpisodeService/\"\n",
    "get_url = base_url + \"GetEpisodeReplay\"\n",
    "list_url = base_url + \"ListEpisodes\""
   ]
  },
  {
   "cell_type": "code",
   "execution_count": 29,
   "metadata": {
    "execution": {
     "iopub.execute_input": "2020-09-29T15:04:45.549377Z",
     "iopub.status.busy": "2020-09-29T15:04:45.548575Z",
     "iopub.status.idle": "2020-09-29T15:04:48.276516Z",
     "shell.execute_reply": "2020-09-29T15:04:48.275337Z"
    },
    "papermill": {
     "duration": 2.746022,
     "end_time": "2020-09-29T15:04:48.276743",
     "exception": false,
     "start_time": "2020-09-29T15:04:45.530721",
     "status": "completed"
    },
    "tags": []
   },
   "outputs": [],
   "source": [
    "# inital team list\n",
    "\n",
    "r = requests.post(list_url, json = {\"teamId\":  5586412}) # arbitrary ID, change to leading ID during challenge\n",
    "\n",
    "rj = r.json()\n",
    "\n",
    "teams_df = pd.DataFrame(rj['result']['teams'])"
   ]
  },
  {
   "cell_type": "code",
   "execution_count": 30,
   "metadata": {
    "execution": {
     "iopub.execute_input": "2020-09-29T15:04:48.340401Z",
     "iopub.status.busy": "2020-09-29T15:04:48.339301Z",
     "iopub.status.idle": "2020-09-29T15:04:48.364462Z",
     "shell.execute_reply": "2020-09-29T15:04:48.363454Z"
    },
    "papermill": {
     "duration": 0.071748,
     "end_time": "2020-09-29T15:04:48.364635",
     "exception": false,
     "start_time": "2020-09-29T15:04:48.292887",
     "status": "completed"
    },
    "tags": []
   },
   "outputs": [
    {
     "data": {
      "text/html": [
       "<div>\n",
       "<style scoped>\n",
       "    .dataframe tbody tr th:only-of-type {\n",
       "        vertical-align: middle;\n",
       "    }\n",
       "\n",
       "    .dataframe tbody tr th {\n",
       "        vertical-align: top;\n",
       "    }\n",
       "\n",
       "    .dataframe thead th {\n",
       "        text-align: right;\n",
       "    }\n",
       "</style>\n",
       "<table border=\"1\" class=\"dataframe\">\n",
       "  <thead>\n",
       "    <tr style=\"text-align: right;\">\n",
       "      <th></th>\n",
       "      <th>id</th>\n",
       "      <th>teamName</th>\n",
       "      <th>competitionId</th>\n",
       "      <th>teamLeaderId</th>\n",
       "      <th>isBenchmark</th>\n",
       "      <th>createdAfterDeadline</th>\n",
       "      <th>medal</th>\n",
       "      <th>dateMedalAwarded</th>\n",
       "      <th>submissionCount</th>\n",
       "      <th>lastSubmissionDate</th>\n",
       "      <th>publicLeaderboardSubmissionId</th>\n",
       "      <th>publicLeaderboardScore</th>\n",
       "      <th>publicLeaderboardRank</th>\n",
       "      <th>privateLeaderboardSubmissionId</th>\n",
       "      <th>privateLeaderboardScore</th>\n",
       "      <th>privateLeaderboardRank</th>\n",
       "      <th>competition</th>\n",
       "      <th>teamMembers</th>\n",
       "      <th>inboundMergeRequests</th>\n",
       "      <th>outboundMergeRequests</th>\n",
       "    </tr>\n",
       "  </thead>\n",
       "  <tbody>\n",
       "    <tr>\n",
       "      <th>264</th>\n",
       "      <td>5673355</td>\n",
       "      <td>Win or Go Home</td>\n",
       "      <td>21723</td>\n",
       "      <td>1565175</td>\n",
       "      <td>False</td>\n",
       "      <td>False</td>\n",
       "      <td>0</td>\n",
       "      <td>None</td>\n",
       "      <td>45</td>\n",
       "      <td>{'seconds': 1605535752, 'nanos': 760000000}</td>\n",
       "      <td>18061225</td>\n",
       "      <td>None</td>\n",
       "      <td>3</td>\n",
       "      <td>None</td>\n",
       "      <td>None</td>\n",
       "      <td>None</td>\n",
       "      <td>None</td>\n",
       "      <td>[{'id': 9602, 'displayName': 'ForeverDream', '...</td>\n",
       "      <td>[]</td>\n",
       "      <td>[]</td>\n",
       "    </tr>\n",
       "    <tr>\n",
       "      <th>235</th>\n",
       "      <td>5645993</td>\n",
       "      <td>s_toppo</td>\n",
       "      <td>21723</td>\n",
       "      <td>2304617</td>\n",
       "      <td>False</td>\n",
       "      <td>False</td>\n",
       "      <td>0</td>\n",
       "      <td>None</td>\n",
       "      <td>120</td>\n",
       "      <td>{'seconds': 1605587850, 'nanos': 373333300}</td>\n",
       "      <td>18039596</td>\n",
       "      <td>None</td>\n",
       "      <td>5</td>\n",
       "      <td>None</td>\n",
       "      <td>None</td>\n",
       "      <td>None</td>\n",
       "      <td>None</td>\n",
       "      <td>[{'id': 1958238, 'displayName': 'e-toppo', 'em...</td>\n",
       "      <td>[]</td>\n",
       "      <td>[]</td>\n",
       "    </tr>\n",
       "    <tr>\n",
       "      <th>55</th>\n",
       "      <td>5588536</td>\n",
       "      <td>WFC</td>\n",
       "      <td>21723</td>\n",
       "      <td>1297333</td>\n",
       "      <td>False</td>\n",
       "      <td>False</td>\n",
       "      <td>0</td>\n",
       "      <td>None</td>\n",
       "      <td>76</td>\n",
       "      <td>{'seconds': 1605356153, 'nanos': 406666700}</td>\n",
       "      <td>18025497</td>\n",
       "      <td>None</td>\n",
       "      <td>6</td>\n",
       "      <td>None</td>\n",
       "      <td>None</td>\n",
       "      <td>None</td>\n",
       "      <td>None</td>\n",
       "      <td>[{'id': 1297333, 'displayName': 'NQ', 'email':...</td>\n",
       "      <td>[]</td>\n",
       "      <td>[]</td>\n",
       "    </tr>\n",
       "    <tr>\n",
       "      <th>85</th>\n",
       "      <td>5590149</td>\n",
       "      <td>kangaroo</td>\n",
       "      <td>21723</td>\n",
       "      <td>5860849</td>\n",
       "      <td>False</td>\n",
       "      <td>False</td>\n",
       "      <td>0</td>\n",
       "      <td>None</td>\n",
       "      <td>17</td>\n",
       "      <td>{'seconds': 1605593839, 'nanos': 216666700}</td>\n",
       "      <td>18079550</td>\n",
       "      <td>None</td>\n",
       "      <td>7</td>\n",
       "      <td>None</td>\n",
       "      <td>None</td>\n",
       "      <td>None</td>\n",
       "      <td>None</td>\n",
       "      <td>[{'id': 831173, 'displayName': 'zlw21gxy', 'em...</td>\n",
       "      <td>[]</td>\n",
       "      <td>[]</td>\n",
       "    </tr>\n",
       "    <tr>\n",
       "      <th>34</th>\n",
       "      <td>5587512</td>\n",
       "      <td>PC</td>\n",
       "      <td>21723</td>\n",
       "      <td>989207</td>\n",
       "      <td>False</td>\n",
       "      <td>False</td>\n",
       "      <td>0</td>\n",
       "      <td>None</td>\n",
       "      <td>55</td>\n",
       "      <td>{'seconds': 1605574987, 'nanos': 596666700}</td>\n",
       "      <td>17936094</td>\n",
       "      <td>None</td>\n",
       "      <td>8</td>\n",
       "      <td>None</td>\n",
       "      <td>None</td>\n",
       "      <td>None</td>\n",
       "      <td>None</td>\n",
       "      <td>[{'id': 832893, 'displayName': 'Xin Cui', 'ema...</td>\n",
       "      <td>[]</td>\n",
       "      <td>[]</td>\n",
       "    </tr>\n",
       "  </tbody>\n",
       "</table>\n",
       "</div>"
      ],
      "text/plain": [
       "          id        teamName  competitionId  teamLeaderId  isBenchmark  \\\n",
       "264  5673355  Win or Go Home          21723       1565175        False   \n",
       "235  5645993         s_toppo          21723       2304617        False   \n",
       "55   5588536             WFC          21723       1297333        False   \n",
       "85   5590149        kangaroo          21723       5860849        False   \n",
       "34   5587512              PC          21723        989207        False   \n",
       "\n",
       "     createdAfterDeadline  medal dateMedalAwarded  submissionCount  \\\n",
       "264                 False      0             None               45   \n",
       "235                 False      0             None              120   \n",
       "55                  False      0             None               76   \n",
       "85                  False      0             None               17   \n",
       "34                  False      0             None               55   \n",
       "\n",
       "                              lastSubmissionDate  \\\n",
       "264  {'seconds': 1605535752, 'nanos': 760000000}   \n",
       "235  {'seconds': 1605587850, 'nanos': 373333300}   \n",
       "55   {'seconds': 1605356153, 'nanos': 406666700}   \n",
       "85   {'seconds': 1605593839, 'nanos': 216666700}   \n",
       "34   {'seconds': 1605574987, 'nanos': 596666700}   \n",
       "\n",
       "     publicLeaderboardSubmissionId publicLeaderboardScore  \\\n",
       "264                       18061225                   None   \n",
       "235                       18039596                   None   \n",
       "55                        18025497                   None   \n",
       "85                        18079550                   None   \n",
       "34                        17936094                   None   \n",
       "\n",
       "     publicLeaderboardRank privateLeaderboardSubmissionId  \\\n",
       "264                      3                           None   \n",
       "235                      5                           None   \n",
       "55                       6                           None   \n",
       "85                       7                           None   \n",
       "34                       8                           None   \n",
       "\n",
       "    privateLeaderboardScore privateLeaderboardRank competition  \\\n",
       "264                    None                   None        None   \n",
       "235                    None                   None        None   \n",
       "55                     None                   None        None   \n",
       "85                     None                   None        None   \n",
       "34                     None                   None        None   \n",
       "\n",
       "                                           teamMembers inboundMergeRequests  \\\n",
       "264  [{'id': 9602, 'displayName': 'ForeverDream', '...                   []   \n",
       "235  [{'id': 1958238, 'displayName': 'e-toppo', 'em...                   []   \n",
       "55   [{'id': 1297333, 'displayName': 'NQ', 'email':...                   []   \n",
       "85   [{'id': 831173, 'displayName': 'zlw21gxy', 'em...                   []   \n",
       "34   [{'id': 832893, 'displayName': 'Xin Cui', 'ema...                   []   \n",
       "\n",
       "    outboundMergeRequests  \n",
       "264                    []  \n",
       "235                    []  \n",
       "55                     []  \n",
       "85                     []  \n",
       "34                     []  "
      ]
     },
     "execution_count": 30,
     "metadata": {},
     "output_type": "execute_result"
    }
   ],
   "source": [
    "teams_df.sort_values('publicLeaderboardRank', inplace = True)\n",
    "teams_df.head()"
   ]
  },
  {
   "cell_type": "code",
   "execution_count": 32,
   "metadata": {
    "execution": {
     "iopub.execute_input": "2020-09-29T15:04:48.413325Z",
     "iopub.status.busy": "2020-09-29T15:04:48.412344Z",
     "iopub.status.idle": "2020-09-29T15:04:48.415510Z",
     "shell.execute_reply": "2020-09-29T15:04:48.414791Z"
    },
    "papermill": {
     "duration": 0.038171,
     "end_time": "2020-09-29T15:04:48.415652",
     "exception": false,
     "start_time": "2020-09-29T15:04:48.377481",
     "status": "completed"
    },
    "tags": []
   },
   "outputs": [],
   "source": [
    "def getTeamEpisodes(team_id):\n",
    "    # request\n",
    "    r = requests.post(list_url, json = {\"teamId\":  int(team_id)})\n",
    "    rj = r.json()\n",
    "\n",
    "    # update teams list\n",
    "    global teams_df\n",
    "    teams_df_new = pd.DataFrame(rj['result']['teams'])\n",
    "    \n",
    "    if len(teams_df.columns) == len(teams_df_new.columns) and (teams_df.columns == teams_df_new.columns).all():\n",
    "        teams_df = pd.concat( (teams_df, teams_df_new.loc[[c for c in teams_df_new.index if c not in teams_df.index]] ) )\n",
    "        teams_df.sort_values('publicLeaderboardRank', inplace = True)\n",
    "    else:\n",
    "        print('teams dataframe did not match')\n",
    "    \n",
    "    # make df\n",
    "    team_episodes = pd.DataFrame(rj['result']['episodes'])\n",
    "    team_episodes['avg_score'] = -1;\n",
    "    \n",
    "    for i in range(len(team_episodes)):\n",
    "        agents = team_episodes['agents'].loc[i]\n",
    "        agent_scores = [a['updatedScore'] for a in agents if a['updatedScore'] is not None]\n",
    "        team_episodes.loc[i, 'submissionId'] = [a['submissionId'] for a in agents if a['submission']['teamId'] == team_id][0]\n",
    "        team_episodes.loc[i, 'updatedScore'] = [a['updatedScore'] for a in agents if a['submission']['teamId'] == team_id][0]\n",
    "        \n",
    "        if len(agent_scores) > 0:\n",
    "            team_episodes.loc[i, 'avg_score'] = np.mean(agent_scores)\n",
    "\n",
    "    for sub_id in team_episodes['submissionId'].unique():\n",
    "        sub_rows = team_episodes[ team_episodes['submissionId'] == sub_id ]\n",
    "        max_time = max( [r['seconds'] for r in sub_rows['endTime']] )\n",
    "        final_score = max( [r['updatedScore'] for r_idx, (r_index, r) in enumerate(sub_rows.iterrows())\n",
    "                                if r['endTime']['seconds'] == max_time] )\n",
    "\n",
    "        team_episodes.loc[sub_rows.index, 'final_score'] = final_score\n",
    "        \n",
    "    team_episodes.sort_values('avg_score', ascending = False, inplace=True)\n",
    "    return rj, team_episodes"
   ]
  },
  {
   "cell_type": "code",
   "execution_count": 33,
   "metadata": {
    "execution": {
     "iopub.execute_input": "2020-09-29T15:04:48.454224Z",
     "iopub.status.busy": "2020-09-29T15:04:48.453202Z",
     "iopub.status.idle": "2020-09-29T15:04:48.457173Z",
     "shell.execute_reply": "2020-09-29T15:04:48.456420Z"
    },
    "papermill": {
     "duration": 0.027211,
     "end_time": "2020-09-29T15:04:48.457356",
     "exception": false,
     "start_time": "2020-09-29T15:04:48.430145",
     "status": "completed"
    },
    "tags": []
   },
   "outputs": [],
   "source": [
    "def saveEpisode(epid, rj):\n",
    "    # request\n",
    "    re = requests.post(get_url, json = {\"EpisodeId\": int(epid)})\n",
    "        \n",
    "    # save replay\n",
    "    with open('./episodes/{}.json'.format(epid), 'w') as f:\n",
    "        f.write(re.json()['result']['replay'])\n",
    "\n",
    "    # save episode info\n",
    "    with open('./episodes/{}_info.json'.format(epid), 'w') as f:\n",
    "        json.dump([r for r in rj['result']['episodes'] if r['id']==epid][0], f)"
   ]
  },
  {
   "cell_type": "code",
   "execution_count": null,
   "metadata": {
    "execution": {
     "iopub.execute_input": "2020-09-29T15:04:48.493224Z",
     "iopub.status.busy": "2020-09-29T15:04:48.492399Z",
     "iopub.status.idle": "2020-09-29T15:07:17.276338Z",
     "shell.execute_reply": "2020-09-29T15:07:17.275361Z"
    },
    "papermill": {
     "duration": 148.805929,
     "end_time": "2020-09-29T15:07:17.276546",
     "exception": false,
     "start_time": "2020-09-29T15:04:48.470617",
     "status": "completed"
    },
    "tags": []
   },
   "outputs": [
    {
     "name": "stdout",
     "output_type": "stream",
     "text": [
      "teams dataframe did not match\n"
     ]
    }
   ],
   "source": [
    "global num_api_calls_today\n",
    "\n",
    "pulled_teams = {}\n",
    "pulled_episodes = []\n",
    "failed_episodes = []\n",
    "start_time = datetime.datetime.now()\n",
    "r = BUFFER;\n",
    "\n",
    "while num_api_calls_today < EPISODES:\n",
    "    # pull team\n",
    "    top_teams = [i for i in teams_df.id if i not in pulled_teams and i not in failed_episodes]\n",
    "    if len(top_teams) > 0:\n",
    "        team_id = top_teams[0]\n",
    "    else:\n",
    "        break;\n",
    "        \n",
    "    # get team data\n",
    "    r += 1\n",
    "    num_api_calls_today += 1\n",
    "    try:\n",
    "        team_json, team_df = getTeamEpisodes(team_id)\n",
    "    except:\n",
    "        failed_episodes.append(team_id)\n",
    "        continue\n",
    "        \n",
    "    print('{} games for {}'.format(len(team_df), teams_df.loc[teams_df.id == team_id].iloc[0].teamName))\n",
    "\n",
    "    \n",
    "    team_df = team_df[  (MIN_FINAL_RATING is None or (team_df.final_score > MIN_FINAL_RATING))]\n",
    "    \n",
    "    print('   {} in score range from {} submissions'.format(len(team_df), len(team_df.submissionId.unique() ) ) )\n",
    "    \n",
    "    team_df = team_df[~team_df.id.isin(pulled_episodes + seen_episodes)]        \n",
    "    print('      {} remain to be downloaded\\n'.format(len(team_df)))\n",
    "        \n",
    "    # pull games\n",
    "    target_team_games = int(np.ceil(EPISODES / NUM_TEAMS))\n",
    "    if target_team_games + len(pulled_episodes) > EPISODES:\n",
    "        target_team_games = EPISODES - len(pulled_episodes)\n",
    "     \n",
    "    pulled_teams[team_id] = 0\n",
    "    \n",
    "    i = 0\n",
    "    while i < len(team_df) and pulled_teams[team_id] < target_team_games:\n",
    "        epid = team_df.id.iloc[i]\n",
    "        if not (epid in pulled_episodes or epid in seen_episodes):\n",
    "            try:\n",
    "                saveEpisode(epid, team_json); r+=1;\n",
    "                num_api_calls_today+=1\n",
    "            except:\n",
    "                time.sleep(20)\n",
    "                i+=1;\n",
    "                continue;\n",
    "            pulled_episodes.append(epid)\n",
    "            pulled_teams[team_id] += 1\n",
    "            try:\n",
    "                size = os.path.getsize('./episodes/{}.json'.format(epid)) / 1e6\n",
    "                print(str(num_api_calls_today) + ': Saved Episode #{} @ {:.1f}MB'.format(epid, size))\n",
    "            except:\n",
    "                print('  file {}.json did not seem to save'.format(epid))    \n",
    "            if r > (datetime.datetime.now() - start_time).seconds:\n",
    "                time.sleep( r - (datetime.datetime.now() - start_time).seconds)\n",
    "        i+=1;\n",
    "    print()\n",
    "    print()"
   ]
  },
  {
   "cell_type": "code",
   "execution_count": null,
   "metadata": {},
   "outputs": [],
   "source": []
  }
 ],
 "metadata": {
  "kernelspec": {
   "display_name": "Python 3",
   "language": "python",
   "name": "python3"
  },
  "language_info": {
   "codemirror_mode": {
    "name": "ipython",
    "version": 3
   },
   "file_extension": ".py",
   "mimetype": "text/x-python",
   "name": "python",
   "nbconvert_exporter": "python",
   "pygments_lexer": "ipython3",
   "version": "3.7.6"
  },
  "papermill": {
   "duration": 157.705536,
   "end_time": "2020-09-29T15:07:17.726724",
   "environment_variables": {},
   "exception": null,
   "input_path": "__notebook__.ipynb",
   "output_path": "__notebook__.ipynb",
   "parameters": {},
   "start_time": "2020-09-29T15:04:40.021188",
   "version": "2.1.0"
  },
  "toc": {
   "base_numbering": 1,
   "nav_menu": {},
   "number_sections": true,
   "sideBar": true,
   "skip_h1_title": false,
   "title_cell": "Table of Contents",
   "title_sidebar": "Contents",
   "toc_cell": false,
   "toc_position": {},
   "toc_section_display": true,
   "toc_window_display": false
  }
 },
 "nbformat": 4,
 "nbformat_minor": 4
}
