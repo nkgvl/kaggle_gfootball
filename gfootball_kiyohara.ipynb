{
 "cells": [
  {
   "cell_type": "markdown",
   "metadata": {},
   "source": [
    "# Trial with Graph Convolutional Network"
   ]
  },
  {
   "cell_type": "markdown",
   "metadata": {},
   "source": [
    "## 方針\n",
    "\n",
    "### 自己対戦による訓練\n",
    "\n",
    "* Q関数が相手によって変わってしまう。\n",
    "    * On-policyで自己対戦にすればOK。Off-policyにしたい場合は、Q関数が大きく違わない過去エピソードとすべき。\n",
    "        * Rainbow\n",
    "            * PFRLに実装あり。まずはこれ？\n",
    "        * MuZero\n",
    "            * 実装少し大変かも。だが自己対戦による実績あるため性能は出るかも？\n",
    "    * Policyを持つアルゴリズムならOK。相手ごとにQ関数を学習すれば良い。この場合も自己対戦かつOn-policy。\n",
    "        * AC3、PPOなど\n",
    "            * PFRLに実装あり。これもトライ？\n",
    "            \n",
    "### 方策／Q関数モデル\n",
    "\n",
    "* Graph Neural Network\n",
    "    * あたかもそれぞれの選手が行動判断／価値判断しているようなモデルにする。選択されたアクションは、その時Activeな選手の最善手とする。\n",
    "    * 初めは、特徴量は、絶対位置座標で、完全グラフを用いる。"
   ]
  },
  {
   "cell_type": "markdown",
   "metadata": {},
   "source": [
    "## Observations\n",
    "\n",
    "### `simple115_v2`\n",
    "\n",
    "Same as simple115, but with the bug fixed.\n",
    "\n",
    "*   22 - (x,y) coordinates of left team players\n",
    "*   22 - (x,y) direction of left team players\n",
    "*   22 - (x,y) coordinates of right team players\n",
    "*   22 - (x, y) direction of right team players\n",
    "*   3 - (x, y and z) - ball position\n",
    "*   3 - ball direction\n",
    "*   3 - one hot encoding of ball ownership (noone, left, right)\n",
    "*   11 - one hot encoding of which player is active\n",
    "*   7 - one hot encoding of `game_mode`\n",
    "\n",
    "Entries for players that are not active (either due to red cards or if number of\n",
    "player is less than 11) are set to -1.\n"
   ]
  },
  {
   "cell_type": "markdown",
   "metadata": {},
   "source": [
    "## Actions\n",
    "\n",
    "### Default action set\n",
    "\n",
    "The default action set consists of 19 actions:\n",
    "\n",
    "*   Idle actions\n",
    "\n",
    "    *   `action_idle` = 0, a no-op action, stickly actions are not affected (player maintains his directional movement etc.).\n",
    "\n",
    "*   Movement actions\n",
    "\n",
    "    *   `action_left` = 1, run to the left, sticky action.\n",
    "    *   `action_top_left` = 2, run to the top-left, sticky action.\n",
    "    *   `action_top` = 3, run to the top, sticky action.\n",
    "    *   `action_top_right` = 4, run to the top-right, sticky action.\n",
    "    *   `action_right` = 5, run to the right, sticky action.\n",
    "    *   `action_bottom_right` = 6, run to the bottom-right, sticky action.\n",
    "    *   `action_bottom` = 7, run to the bottom, sticky action.\n",
    "    *   `action_bottom_left` = 8, run to the bottom-left, sticky action.\n",
    "\n",
    "*   Passing / Shooting\n",
    "\n",
    "    *   `action_long_pass` = 9, perform a long pass to the player on your team. Player to pass the ball to is auto-determined based on the movement direction.\n",
    "    *   `action_high_pass` = 10, perform a high pass, similar to `action_long_pass`.\n",
    "    *   `action_short_pass` = 11, perform a short pass, similar to `action_long_pass`.\n",
    "    *   `action_shot` = 12, perform a shot, always in the direction of the opponent's goal.\n",
    "\n",
    "*   Other actions\n",
    "\n",
    "    *   `action_sprint` = 13, start sprinting, sticky action. Player moves faster, but has worse ball handling.\n",
    "    *   `action_release_direction` = 14, reset current movement direction.\n",
    "    *   `action_release_sprint` = 15, stop sprinting.\n",
    "    *   `action_sliding` = 16, perform a slide (effective when not having a ball).\n",
    "    *   `action_dribble` = 17, start dribbling (effective when having a ball), sticky action. Player moves slower, but it is harder to take over the ball from him.\n",
    "    *   `action_release_dribble` = 18, stop dribbling.\n",
    "\n",
    "### V2 action set\n",
    "\n",
    "It is an extension of the default action set:\n",
    "\n",
    "*   `action_builtin_ai` = 19, let game's built-in AI generate an action"
   ]
  },
  {
   "cell_type": "code",
   "execution_count": 1,
   "metadata": {
    "_cell_guid": "79c7e3d0-c299-4dcb-8224-4455121ee9b0",
    "_kg_hide-output": true,
    "_uuid": "d629ff2d2480ee46fbb7e2d37f6b5fab8052498a"
   },
   "outputs": [
    {
     "name": "stdout",
     "output_type": "stream",
     "text": [
      "fatal: destination path 'kaggle-environments' already exists and is not an empty directory.\n",
      "Processing /notebooks/kaggle/gfootball/kaggle-environments\n",
      "Requirement already satisfied: jsonschema>=3.0.1 in /opt/conda/lib/python3.7/site-packages (from kaggle-environments==1.3.14) (3.2.0)\n",
      "Requirement already satisfied: attrs>=17.4.0 in /opt/conda/lib/python3.7/site-packages (from jsonschema>=3.0.1->kaggle-environments==1.3.14) (19.3.0)\n",
      "Requirement already satisfied: setuptools in /opt/conda/lib/python3.7/site-packages (from jsonschema>=3.0.1->kaggle-environments==1.3.14) (46.1.3.post20200325)\n",
      "Requirement already satisfied: pyrsistent>=0.14.0 in /opt/conda/lib/python3.7/site-packages (from jsonschema>=3.0.1->kaggle-environments==1.3.14) (0.16.0)\n",
      "Requirement already satisfied: importlib-metadata; python_version < \"3.8\" in /opt/conda/lib/python3.7/site-packages (from jsonschema>=3.0.1->kaggle-environments==1.3.14) (2.0.0)\n",
      "Requirement already satisfied: six>=1.11.0 in /opt/conda/lib/python3.7/site-packages (from jsonschema>=3.0.1->kaggle-environments==1.3.14) (1.14.0)\n",
      "Requirement already satisfied: zipp>=0.5 in /opt/conda/lib/python3.7/site-packages (from importlib-metadata; python_version < \"3.8\"->jsonschema>=3.0.1->kaggle-environments==1.3.14) (3.1.0)\n",
      "Building wheels for collected packages: kaggle-environments\n",
      "  Building wheel for kaggle-environments (setup.py) ... \u001b[?25ldone\n",
      "\u001b[?25h  Created wheel for kaggle-environments: filename=kaggle_environments-1.3.14-py3-none-any.whl size=302295 sha256=9665b0c846a40bb498c24a23b625f218221f7ccea7aaecbaee1022e04aed3d6e\n",
      "  Stored in directory: /root/.cache/pip/wheels/32/ff/b6/a9ab62cd5f60b2492aa5d5bc96a6d12bb1158496e87a4576ec\n",
      "Successfully built kaggle-environments\n",
      "Installing collected packages: kaggle-environments\n",
      "  Attempting uninstall: kaggle-environments\n",
      "    Found existing installation: kaggle-environments 1.3.14\n",
      "    Uninstalling kaggle-environments-1.3.14:\n",
      "      Successfully uninstalled kaggle-environments-1.3.14\n",
      "Successfully installed kaggle-environments-1.3.14\n",
      "Hit:1 http://archive.ubuntu.com/ubuntu bionic InRelease\n",
      "Get:2 http://archive.ubuntu.com/ubuntu bionic-updates InRelease [88.7 kB]\n",
      "Get:3 http://archive.ubuntu.com/ubuntu bionic-backports InRelease [74.6 kB]\n",
      "Get:4 http://archive.ubuntu.com/ubuntu bionic-updates/universe amd64 Packages [2118 kB]\n",
      "Get:5 http://archive.ubuntu.com/ubuntu bionic-updates/main amd64 Packages [2165 kB]\n",
      "Hit:6 http://packages.cloud.google.com/apt gcsfuse-bionic InRelease            \n",
      "Hit:7 http://packages.cloud.google.com/apt cloud-sdk-bionic InRelease          \n",
      "Ign:8 http://developer.download.nvidia.com/compute/cuda/repos/ubuntu1804/x86_64  InRelease\n",
      "Hit:9 http://packages.cloud.google.com/apt cloud-sdk InRelease                 \n",
      "Ign:10 http://developer.download.nvidia.com/compute/machine-learning/repos/ubuntu1804/x86_64  InRelease\n",
      "Hit:11 http://developer.download.nvidia.com/compute/cuda/repos/ubuntu1804/x86_64  Release\n",
      "Hit:12 http://developer.download.nvidia.com/compute/machine-learning/repos/ubuntu1804/x86_64  Release\n",
      "Get:15 http://security.ubuntu.com/ubuntu bionic-security InRelease [88.7 kB]   \n",
      "Fetched 4535 kB in 11s (407 kB/s)                                              \n",
      "Reading package lists... Done\n",
      "Reading package lists... Done\n",
      "Building dependency tree       \n",
      "Reading state information... Done\n",
      "libsdl2-gfx-dev is already the newest version (1.0.4+dfsg-1).\n",
      "libsdl2-ttf-dev is already the newest version (2.0.14+dfsg1-2).\n",
      "0 upgraded, 0 newly installed, 0 to remove and 92 not upgraded.\n",
      "fatal: destination path 'football' already exists and is not an empty directory.\n",
      "--2020-11-01 02:37:51--  https://storage.googleapis.com/gfootball/prebuilt_gameplayfootball_v2.3.so\n",
      "Resolving storage.googleapis.com (storage.googleapis.com)... 172.217.25.208, 172.217.25.240, 172.217.26.16, ...\n",
      "Connecting to storage.googleapis.com (storage.googleapis.com)|172.217.25.208|:443... connected.\n",
      "HTTP request sent, awaiting response... 200 OK\n",
      "Length: 45163384 (43M) [application/octet-stream]\n",
      "Saving to: ‘football/third_party/gfootball_engine/lib/prebuilt_gameplayfootball.so’\n",
      "\n",
      "football/third_part 100%[===================>]  43.07M  10.4MB/s    in 4.1s    \n",
      "\n",
      "2020-11-01 02:37:55 (10.5 MB/s) - ‘football/third_party/gfootball_engine/lib/prebuilt_gameplayfootball.so’ saved [45163384/45163384]\n",
      "\n",
      "Processing /notebooks/kaggle/gfootball/football\n",
      "Requirement already satisfied: pygame==1.9.6 in /opt/conda/lib/python3.7/site-packages (from gfootball==2.3) (1.9.6)\n",
      "Requirement already satisfied: opencv-python in /opt/conda/lib/python3.7/site-packages (from gfootball==2.3) (4.4.0.44)\n",
      "Requirement already satisfied: scipy in /opt/conda/lib/python3.7/site-packages (from gfootball==2.3) (1.4.1)\n",
      "Requirement already satisfied: gym>=0.11.0 in /opt/conda/lib/python3.7/site-packages (from gfootball==2.3) (0.17.3)\n",
      "Requirement already satisfied: absl-py in /opt/conda/lib/python3.7/site-packages (from gfootball==2.3) (0.10.0)\n",
      "Requirement already satisfied: wheel in /opt/conda/lib/python3.7/site-packages (from gfootball==2.3) (0.34.2)\n",
      "Requirement already satisfied: numpy>=1.14.5 in /opt/conda/lib/python3.7/site-packages (from opencv-python->gfootball==2.3) (1.18.5)\n",
      "Requirement already satisfied: cloudpickle<1.7.0,>=1.2.0 in /opt/conda/lib/python3.7/site-packages (from gym>=0.11.0->gfootball==2.3) (1.3.0)\n",
      "Requirement already satisfied: pyglet<=1.5.0,>=1.4.0 in /opt/conda/lib/python3.7/site-packages (from gym>=0.11.0->gfootball==2.3) (1.5.0)\n",
      "Requirement already satisfied: six in /opt/conda/lib/python3.7/site-packages (from absl-py->gfootball==2.3) (1.14.0)\n",
      "Requirement already satisfied: future in /opt/conda/lib/python3.7/site-packages (from pyglet<=1.5.0,>=1.4.0->gym>=0.11.0->gfootball==2.3) (0.18.2)\n",
      "Building wheels for collected packages: gfootball\n",
      "  Building wheel for gfootball (setup.py) ... \u001b[?25ldone\n",
      "\u001b[?25h  Created wheel for gfootball: filename=gfootball-2.3-cp37-cp37m-linux_x86_64.whl size=38649989 sha256=4ee28ba40e3e0f9a477db6f3fe1d28bf12e3b800d1a2a557725c5a4385230c43\n",
      "  Stored in directory: /tmp/pip-ephem-wheel-cache-n_ou6s87/wheels/2e/fa/d3/e08f039bbd2ffb7dc6fdc617e25eb16978d5b56f9e2f5638dc\n",
      "Successfully built gfootball\n",
      "Installing collected packages: gfootball\n",
      "  Attempting uninstall: gfootball\n",
      "    Found existing installation: gfootball 2.3\n",
      "    Uninstalling gfootball-2.3:\n",
      "      Successfully uninstalled gfootball-2.3\n",
      "Successfully installed gfootball-2.3\n"
     ]
    }
   ],
   "source": [
    "# Install:\n",
    "# Kaggle environments.\n",
    "!git clone https://github.com/Kaggle/kaggle-environments.git\n",
    "!cd kaggle-environments && pip install .\n",
    "\n",
    "# GFootball environment.\n",
    "!apt-get update -y\n",
    "!apt-get install -y libsdl2-gfx-dev libsdl2-ttf-dev\n",
    "\n",
    "# Make sure that the Branch in git clone and in wget call matches !!\n",
    "!git clone -b v2.3 https://github.com/google-research/football.git\n",
    "!mkdir -p football/third_party/gfootball_engine/lib\n",
    "\n",
    "!wget https://storage.googleapis.com/gfootball/prebuilt_gameplayfootball_v2.3.so -O football/third_party/gfootball_engine/lib/prebuilt_gameplayfootball.so\n",
    "!cd football && GFOOTBALL_USE_PREBUILT_SO=1 pip3 install ."
   ]
  },
  {
   "cell_type": "markdown",
   "metadata": {},
   "source": [
    "## Install"
   ]
  },
  {
   "cell_type": "code",
   "execution_count": 3,
   "metadata": {},
   "outputs": [
    {
     "name": "stdout",
     "output_type": "stream",
     "text": [
      "Requirement already satisfied: pfrl==0.1.0 in /opt/conda/lib/python3.7/site-packages (0.1.0)\n",
      "Requirement already satisfied: torch>=1.3.0 in /opt/conda/lib/python3.7/site-packages (from pfrl==0.1.0) (1.6.0)\n",
      "Requirement already satisfied: pillow in /opt/conda/lib/python3.7/site-packages (from pfrl==0.1.0) (8.0.0)\n",
      "Requirement already satisfied: numpy>=1.10.4 in /opt/conda/lib/python3.7/site-packages (from pfrl==0.1.0) (1.18.5)\n",
      "Requirement already satisfied: gym>=0.9.7 in /opt/conda/lib/python3.7/site-packages (from pfrl==0.1.0) (0.17.3)\n",
      "Requirement already satisfied: future in /opt/conda/lib/python3.7/site-packages (from torch>=1.3.0->pfrl==0.1.0) (0.18.2)\n",
      "Requirement already satisfied: cloudpickle<1.7.0,>=1.2.0 in /opt/conda/lib/python3.7/site-packages (from gym>=0.9.7->pfrl==0.1.0) (1.3.0)\n",
      "Requirement already satisfied: pyglet<=1.5.0,>=1.4.0 in /opt/conda/lib/python3.7/site-packages (from gym>=0.9.7->pfrl==0.1.0) (1.5.0)\n",
      "Requirement already satisfied: scipy in /opt/conda/lib/python3.7/site-packages (from gym>=0.9.7->pfrl==0.1.0) (1.4.1)\n"
     ]
    }
   ],
   "source": [
    "!pip install pfrl==0.1.0"
   ]
  },
  {
   "cell_type": "code",
   "execution_count": 4,
   "metadata": {},
   "outputs": [],
   "source": [
    "# ------------------ install torch_geometric begin -----------------\n",
    "try:\n",
    "    import torch_geometric\n",
    "except:\n",
    "    import subprocess\n",
    "    import torch\n",
    "\n",
    "    nvcc_stdout = str(subprocess.check_output(['nvcc', '-V']))\n",
    "    tmp = nvcc_stdout[nvcc_stdout.rfind('release') + len('release') + 1:]\n",
    "    cuda_version = tmp[:tmp.find(',')]\n",
    "    cuda = {\n",
    "            '9.2': 'cu92',\n",
    "            '10.1': 'cu101',\n",
    "            '10.2': 'cu102',\n",
    "            }\n",
    "\n",
    "    CUDA = cuda[cuda_version]\n",
    "    TORCH = torch.__version__.split('.')\n",
    "    TORCH[-1] = '0'\n",
    "    TORCH = '.'.join(TORCH)\n",
    "\n",
    "    install1 = 'pip install torch-scatter==latest+' + CUDA + ' -f https://pytorch-geometric.com/whl/torch-' + TORCH + '.html'\n",
    "    install2 = 'pip install torch-sparse==latest+' + CUDA + ' -f https://pytorch-geometric.com/whl/torch-' + TORCH + '.html'\n",
    "    install3 = 'pip install torch-cluster==latest+' + CUDA + ' -f https://pytorch-geometric.com/whl/torch-' + TORCH + '.html'\n",
    "    install4 = 'pip install torch-spline-conv==latest+' + CUDA + ' -f https://pytorch-geometric.com/whl/torch-' + TORCH + '.html'\n",
    "    install5 = 'pip install torch-geometric'\n",
    "\n",
    "    subprocess.run(install1.split())\n",
    "    subprocess.run(install2.split())\n",
    "    subprocess.run(install3.split())\n",
    "    subprocess.run(install4.split())\n",
    "    subprocess.run(install5.split())\n",
    "# ------------------ install torch_geometric end -----------------"
   ]
  },
  {
   "cell_type": "code",
   "execution_count": 16,
   "metadata": {},
   "outputs": [],
   "source": [
    "import os\n",
    "import cv2\n",
    "import sys\n",
    "import glob \n",
    "import random\n",
    "import imageio\n",
    "import pathlib\n",
    "import collections\n",
    "from collections import deque\n",
    "import numpy as np\n",
    "import argparse\n",
    "import matplotlib.pyplot as plt\n",
    "import seaborn as sns\n",
    "sns.set()\n",
    "%matplotlib inline\n",
    "\n",
    "from gym import spaces\n",
    "from tqdm import tqdm\n",
    "from logging import getLogger, StreamHandler, FileHandler, DEBUG, INFO\n",
    "from typing import Union, Callable, List, Tuple, Iterable, Any, Dict\n",
    "from dataclasses import dataclass\n",
    "from IPython.display import Image, display\n",
    "sns.set()\n",
    "\n",
    "\n",
    "# PFRL\n",
    "import pfrl\n",
    "from pfrl.agents import CategoricalDoubleDQN\n",
    "from pfrl import experiments\n",
    "from pfrl import explorers\n",
    "from pfrl import nn as pnn\n",
    "from pfrl import utils\n",
    "from pfrl import replay_buffers\n",
    "from pfrl.wrappers import atari_wrappers\n",
    "from pfrl.q_functions import DistributionalDuelingDQN\n",
    "\n",
    "# PyTorch\n",
    "import torch\n",
    "from torch import nn\n",
    "\n",
    "# PyTorch geometric\n",
    "from torch_geometric.data import Data\n",
    "from torch_geometric.nn import RGCNConv\n",
    "\n",
    "# Env\n",
    "import gym\n",
    "import gfootball\n",
    "import gfootball.env as football_env\n",
    "from gfootball.env import observation_preprocessing"
   ]
  },
  {
   "cell_type": "markdown",
   "metadata": {},
   "source": [
    "## Config"
   ]
  },
  {
   "cell_type": "code",
   "execution_count": 6,
   "metadata": {},
   "outputs": [
    {
     "name": "stdout",
     "output_type": "stream",
     "text": [
      "True\n"
     ]
    }
   ],
   "source": [
    "# Check we can use GPU\n",
    "print(torch.cuda.is_available())\n",
    "\n",
    "# set gpu id\n",
    "if torch.cuda.is_available(): \n",
    "    # NOTE: it is not number of gpu but id which start from 0\n",
    "    gpu = 0\n",
    "else:\n",
    "    # cpu=>-1\n",
    "    gpu = -1"
   ]
  },
  {
   "cell_type": "code",
   "execution_count": 7,
   "metadata": {},
   "outputs": [],
   "source": [
    "# set logger\n",
    "def logger_config():\n",
    "    logger = getLogger(__name__)\n",
    "    handler = StreamHandler()\n",
    "    handler.setLevel(\"DEBUG\")\n",
    "    logger.setLevel(\"DEBUG\")\n",
    "    logger.addHandler(handler)\n",
    "    logger.propagate = False\n",
    "\n",
    "    filepath = './result.log'\n",
    "    file_handler = FileHandler(filepath)\n",
    "    logger.addHandler(file_handler)\n",
    "    return logger\n",
    "\n",
    "logger = logger_config()"
   ]
  },
  {
   "cell_type": "code",
   "execution_count": 8,
   "metadata": {},
   "outputs": [],
   "source": [
    "# fixed random seed\n",
    "# but this is NOT enough to fix the result of rewards.Please tell me the reason.\n",
    "def seed_everything(seed=1234):\n",
    "    random.seed(seed)\n",
    "    np.random.seed(seed)\n",
    "    torch.manual_seed(seed)\n",
    "    torch.cuda.manual_seed(seed)\n",
    "    torch.backends.cudnn.deterministic = True\n",
    "    utils.set_random_seed(seed)  # for PFRL\n",
    "    \n",
    "# Set a random seed used in PFRL.\n",
    "seed = 5046\n",
    "seed_everything(seed)\n",
    "\n",
    "# Set different random seeds for train and test envs.\n",
    "train_seed = seed\n",
    "test_seed = 2 ** 31 - 1 - seed"
   ]
  },
  {
   "cell_type": "markdown",
   "metadata": {},
   "source": [
    "## Environment"
   ]
  },
  {
   "cell_type": "code",
   "execution_count": 23,
   "metadata": {},
   "outputs": [],
   "source": [
    "env = football_env.create_environment(\n",
    "    env_name='11_vs_11_easy_stochastic',  # easy mode\n",
    "    stacked=False,\n",
    "    representation='simple115v2',           # SMM\n",
    "    rewards='scoring, checkpoints',\n",
    "    write_goal_dumps=False,\n",
    "    write_full_episode_dumps=False,\n",
    "    render=False,\n",
    "    write_video=False,\n",
    "    dump_frequency=1,\n",
    "    logdir='./',\n",
    "    extra_players=None,\n",
    "    number_of_left_players_agent_controls=1,\n",
    "    number_of_right_players_agent_controls=0,\n",
    ")"
   ]
  },
  {
   "cell_type": "code",
   "execution_count": 10,
   "metadata": {},
   "outputs": [],
   "source": [
    "array = env.reset()"
   ]
  },
  {
   "cell_type": "markdown",
   "metadata": {},
   "source": [
    "## Create graph"
   ]
  },
  {
   "cell_type": "markdown",
   "metadata": {},
   "source": [
    "The flag to distinguish left players, right players, and the ball.\n",
    "\n",
    "* left players: 0\n",
    "* right players: 1\n",
    "* ball: 2"
   ]
  },
  {
   "cell_type": "code",
   "execution_count": 11,
   "metadata": {},
   "outputs": [],
   "source": [
    "left_coordinations = np.concatenate([array[:22].reshape(11, 2), np.zeros((11, 1))], axis=-1)\n",
    "left_directions = np.concatenate([array[22:44].reshape(11, 2), np.zeros((11, 1))], axis=-1)\n",
    "right_coordinations = np.concatenate([array[44:66].reshape(11, 2), np.zeros((11, 1))], axis=-1)\n",
    "right_directions = np.concatenate([array[66:88].reshape(11, 2), np.zeros((11, 1))], axis=-1)\n",
    "ball_coordination = array[88:91].reshape([1, 3])\n",
    "ball_direction = array[91:94].reshape([1, 3])\n",
    "ball_ownership = array[94:97] # none, left, right\n",
    "active_player = array[97:108].reshape([11, 1])\n",
    "game_mode = array[108:]"
   ]
  },
  {
   "cell_type": "code",
   "execution_count": 18,
   "metadata": {},
   "outputs": [],
   "source": [
    "# Node features\n",
    "left_features = np.concatenate([\n",
    "    0*np.ones((11, 1)),\n",
    "    left_coordinations,\n",
    "    left_directions,\n",
    "    ball_ownership[1]*np.ones((11, 1)),\n",
    "    active_player,\n",
    "], axis=-1)\n",
    "right_features = np.concatenate([\n",
    "    1*np.ones((11, 1)),\n",
    "    right_coordinations,\n",
    "    right_directions,\n",
    "    ball_ownership[2]*np.ones((11, 1)),\n",
    "    np.zeros((11, 1)),\n",
    "], axis=-1)\n",
    "ball_features = np.concatenate([\n",
    "    2*np.ones((1, 1)),\n",
    "    ball_coordination,\n",
    "    ball_direction,\n",
    "    np.zeros((1, 1)),\n",
    "    np.zeros((1, 1)),\n",
    "], axis=-1)\n",
    "\n",
    "features = np.concatenate([left_features, right_features, ball_features], axis=0)[:,1:]"
   ]
  },
  {
   "cell_type": "code",
   "execution_count": 13,
   "metadata": {},
   "outputs": [],
   "source": [
    "# Edges and relations\n",
    "X, Y = np.meshgrid(np.arange(len(features)), np.arange(len(features)))\n",
    "all_combinations = np.vstack([X.flatten(), Y.flatten()]).T\n",
    "edge_index = np.array(\n",
    "    [combination for combination in all_combinations if not combination[0] == combination[1]]\n",
    ").T\n",
    "types_for_edge_index = features[edge_index][:,:,0]\n",
    "relations_dict = {\n",
    "    (0., 0.): 0, # left player -> left player\n",
    "    (0., 1.): 1, # left player -> right player\n",
    "    (0., 2.): 2, # left player -> ball\n",
    "    (1., 0.): 3, # right player -> left player\n",
    "    (1., 1.): 4, # right player -> right player\n",
    "    (1., 2.): 5, # right player -> ball\n",
    "    (2., 0.): 6, # ball -> left player\n",
    "    (2., 1.): 7, # ball -> right player\n",
    "}\n",
    "relations = [relations_dict[tuple(types)] for types in types_for_edge_index.T]"
   ]
  },
  {
   "cell_type": "code",
   "execution_count": 14,
   "metadata": {},
   "outputs": [],
   "source": [
    "# numpy array to torch tensor\n",
    "features = torch.tensor(features).contiguous()\n",
    "edge_index = torch.tensor(edge_index).contiguous()\n",
    "relations = torch.tensor(relations).contiguous()"
   ]
  },
  {
   "cell_type": "code",
   "execution_count": 15,
   "metadata": {},
   "outputs": [],
   "source": [
    "graph = Data(x=features, edge_index=edge_index, relations=relations)"
   ]
  },
  {
   "cell_type": "code",
   "execution_count": null,
   "metadata": {},
   "outputs": [],
   "source": [
    "class Policy(torch.nn.Module):\n",
    "    def __init__(self):\n",
    "        super().__init__()\n",
    "        self.conv1 = RGCNConv(graph.num_node_features, 32)\n",
    "        self.conv2 = RGCNConv(32, 64)\n",
    "        self.conv3 = RGCNConv(64, 128)\n",
    "        self.linear = nn.Linear(128, 19)\n",
    "\n",
    "    def forward(self, data):\n",
    "        x, edge_index = data.x, data.edge_index\n",
    "\n",
    "        x = self.conv1(x, edge_index)\n",
    "        x = F.relu(x)\n",
    "        x = F.dropout(x, training=self.training)\n",
    "\n",
    "        x = self.conv2(x, edge_index)\n",
    "        x = F.relu(x)\n",
    "        x = F.dropout(x, training=self.training)\n",
    "\n",
    "        x = self.conv3(x, edge_index)\n",
    "        x = F.relu(x)\n",
    "        x = F.dropout(x, training=self.training)\n",
    "\n",
    "        x = self.linear(x)\n",
    "\n",
    "        return F.log_softmax(x, dim=1)"
   ]
  },
  {
   "cell_type": "code",
   "execution_count": null,
   "metadata": {},
   "outputs": [],
   "source": [
    "class DynamicsModel:\n",
    "    def __init__(self):\n",
    "        pass"
   ]
  },
  {
   "cell_type": "markdown",
   "metadata": {},
   "source": []
  },
  {
   "cell_type": "code",
   "execution_count": null,
   "metadata": {},
   "outputs": [],
   "source": []
  }
 ],
 "metadata": {
  "kernelspec": {
   "display_name": "Python 3",
   "language": "python",
   "name": "python3"
  },
  "language_info": {
   "codemirror_mode": {
    "name": "ipython",
    "version": 3
   },
   "file_extension": ".py",
   "mimetype": "text/x-python",
   "name": "python",
   "nbconvert_exporter": "python",
   "pygments_lexer": "ipython3",
   "version": "3.7.6"
  },
  "toc": {
   "base_numbering": 1,
   "nav_menu": {},
   "number_sections": true,
   "sideBar": true,
   "skip_h1_title": false,
   "title_cell": "Table of Contents",
   "title_sidebar": "Contents",
   "toc_cell": false,
   "toc_position": {},
   "toc_section_display": true,
   "toc_window_display": false
  }
 },
 "nbformat": 4,
 "nbformat_minor": 4
}
