{
 "cells": [
  {
   "cell_type": "markdown",
   "metadata": {},
   "source": [
    "# Trial with Graph Convolutional Network"
   ]
  },
  {
   "cell_type": "markdown",
   "metadata": {},
   "source": [
    "## 方針\n",
    "\n",
    "### 教師あり学習\n",
    "\n",
    "まずは教師あり学習により強いポリシーを獲得。\n",
    "\n",
    "### 自己対戦による訓練\n",
    "\n",
    "* Q関数が相手によって変わってしまう。\n",
    "    * On-policyで自己対戦にすればOK。Off-policyにしたい場合は、Q関数が大きく違わない過去エピソードとすべき。\n",
    "        * Rainbow\n",
    "            * PFRLに実装あり。まずはこれ？\n",
    "        * MuZero\n",
    "            * 実装少し大変かも。だが自己対戦による実績あるため性能は出るかも？\n",
    "    * Policyを持つアルゴリズムならOK。相手ごとにQ関数を学習すれば良い。この場合も自己対戦かつOn-policy。\n",
    "        * AC3、PPOなど\n",
    "            * PFRLに実装あり。これもトライ？\n",
    "            \n",
    "### 方策／Q関数モデル\n",
    "\n",
    "* Graph Neural Network\n",
    "    * あたかもそれぞれの選手が行動判断／価値判断しているようなモデルにする。選択されたアクションは、その時Activeな選手の最善手とする。\n",
    "    * 初めは、特徴量は、絶対位置座標で、完全グラフを用いる。"
   ]
  },
  {
   "cell_type": "markdown",
   "metadata": {},
   "source": [
    "## Actions\n",
    "\n",
    "### Default action set\n",
    "\n",
    "The default action set consists of 19 actions:\n",
    "\n",
    "*   Idle actions\n",
    "\n",
    "    *   `action_idle` = 0, a no-op action, stickly actions are not affected (player maintains his directional movement etc.).\n",
    "\n",
    "*   Movement actions\n",
    "\n",
    "    *   `action_left` = 1, run to the left, sticky action.\n",
    "    *   `action_top_left` = 2, run to the top-left, sticky action.\n",
    "    *   `action_top` = 3, run to the top, sticky action.\n",
    "    *   `action_top_right` = 4, run to the top-right, sticky action.\n",
    "    *   `action_right` = 5, run to the right, sticky action.\n",
    "    *   `action_bottom_right` = 6, run to the bottom-right, sticky action.\n",
    "    *   `action_bottom` = 7, run to the bottom, sticky action.\n",
    "    *   `action_bottom_left` = 8, run to the bottom-left, sticky action.\n",
    "\n",
    "*   Passing / Shooting\n",
    "\n",
    "    *   `action_long_pass` = 9, perform a long pass to the player on your team. Player to pass the ball to is auto-determined based on the movement direction.\n",
    "    *   `action_high_pass` = 10, perform a high pass, similar to `action_long_pass`.\n",
    "    *   `action_short_pass` = 11, perform a short pass, similar to `action_long_pass`.\n",
    "    *   `action_shot` = 12, perform a shot, always in the direction of the opponent's goal.\n",
    "\n",
    "*   Other actions\n",
    "\n",
    "    *   `action_sprint` = 13, start sprinting, sticky action. Player moves faster, but has worse ball handling.\n",
    "    *   `action_release_direction` = 14, reset current movement direction.\n",
    "    *   `action_release_sprint` = 15, stop sprinting.\n",
    "    *   `action_sliding` = 16, perform a slide (effective when not having a ball).\n",
    "    *   `action_dribble` = 17, start dribbling (effective when having a ball), sticky action. Player moves slower, but it is harder to take over the ball from him.\n",
    "    *   `action_release_dribble` = 18, stop dribbling.\n",
    "\n",
    "### V2 action set\n",
    "\n",
    "It is an extension of the default action set:\n",
    "\n",
    "*   `action_builtin_ai` = 19, let game's built-in AI generate an action"
   ]
  },
  {
   "cell_type": "code",
   "execution_count": 1,
   "metadata": {
    "_cell_guid": "79c7e3d0-c299-4dcb-8224-4455121ee9b0",
    "_kg_hide-output": true,
    "_uuid": "d629ff2d2480ee46fbb7e2d37f6b5fab8052498a"
   },
   "outputs": [
    {
     "name": "stdout",
     "output_type": "stream",
     "text": [
      "fatal: destination path 'kaggle-environments' already exists and is not an empty directory.\n",
      "Processing /notebooks/kaggle/gfootball/kaggle-environments\n",
      "Requirement already satisfied: jsonschema>=3.0.1 in /opt/conda/lib/python3.7/site-packages (from kaggle-environments==1.3.14) (3.2.0)\n",
      "Requirement already satisfied: pyrsistent>=0.14.0 in /opt/conda/lib/python3.7/site-packages (from jsonschema>=3.0.1->kaggle-environments==1.3.14) (0.16.0)\n",
      "Requirement already satisfied: importlib-metadata; python_version < \"3.8\" in /opt/conda/lib/python3.7/site-packages (from jsonschema>=3.0.1->kaggle-environments==1.3.14) (2.0.0)\n",
      "Requirement already satisfied: attrs>=17.4.0 in /opt/conda/lib/python3.7/site-packages (from jsonschema>=3.0.1->kaggle-environments==1.3.14) (19.3.0)\n",
      "Requirement already satisfied: six>=1.11.0 in /opt/conda/lib/python3.7/site-packages (from jsonschema>=3.0.1->kaggle-environments==1.3.14) (1.14.0)\n",
      "Requirement already satisfied: setuptools in /opt/conda/lib/python3.7/site-packages (from jsonschema>=3.0.1->kaggle-environments==1.3.14) (46.1.3.post20200325)\n",
      "Requirement already satisfied: zipp>=0.5 in /opt/conda/lib/python3.7/site-packages (from importlib-metadata; python_version < \"3.8\"->jsonschema>=3.0.1->kaggle-environments==1.3.14) (3.1.0)\n",
      "Building wheels for collected packages: kaggle-environments\n",
      "  Building wheel for kaggle-environments (setup.py) ... \u001b[?25ldone\n",
      "\u001b[?25h  Created wheel for kaggle-environments: filename=kaggle_environments-1.3.14-py3-none-any.whl size=302295 sha256=11b813c7772209ea2ae363ef2e8fa4ec6206272e4fdd64f1c0d5fdd2657f2492\n",
      "  Stored in directory: /root/.cache/pip/wheels/32/ff/b6/a9ab62cd5f60b2492aa5d5bc96a6d12bb1158496e87a4576ec\n",
      "Successfully built kaggle-environments\n",
      "Installing collected packages: kaggle-environments\n",
      "  Attempting uninstall: kaggle-environments\n",
      "    Found existing installation: kaggle-environments 1.3.14\n",
      "    Uninstalling kaggle-environments-1.3.14:\n",
      "      Successfully uninstalled kaggle-environments-1.3.14\n",
      "Successfully installed kaggle-environments-1.3.14\n",
      "Ign:1 http://developer.download.nvidia.com/compute/cuda/repos/ubuntu1804/x86_64  InRelease\n",
      "Ign:2 http://developer.download.nvidia.com/compute/machine-learning/repos/ubuntu1804/x86_64  InRelease\n",
      "Hit:3 http://developer.download.nvidia.com/compute/cuda/repos/ubuntu1804/x86_64  Release\n",
      "Hit:4 http://developer.download.nvidia.com/compute/machine-learning/repos/ubuntu1804/x86_64  Release\n",
      "Hit:7 http://archive.ubuntu.com/ubuntu bionic InRelease                        \n",
      "Hit:8 http://packages.cloud.google.com/apt gcsfuse-bionic InRelease            \n",
      "Hit:9 http://packages.cloud.google.com/apt cloud-sdk-bionic InRelease          \n",
      "Hit:10 http://packages.cloud.google.com/apt cloud-sdk InRelease                \n",
      "Get:11 http://archive.ubuntu.com/ubuntu bionic-updates InRelease [88.7 kB]     \n",
      "Get:12 http://security.ubuntu.com/ubuntu bionic-security InRelease [88.7 kB]   \n",
      "Get:13 http://archive.ubuntu.com/ubuntu bionic-backports InRelease [74.6 kB]   \n",
      "Fetched 252 kB in 3s (101 kB/s)                               \n",
      "Reading package lists... Done\n",
      "Reading package lists... Done\n",
      "Building dependency tree       \n",
      "Reading state information... Done\n",
      "libsdl2-gfx-dev is already the newest version (1.0.4+dfsg-1).\n",
      "libsdl2-ttf-dev is already the newest version (2.0.14+dfsg1-2).\n",
      "0 upgraded, 0 newly installed, 0 to remove and 91 not upgraded.\n",
      "fatal: destination path 'football' already exists and is not an empty directory.\n",
      "--2020-11-08 07:27:07--  https://storage.googleapis.com/gfootball/prebuilt_gameplayfootball_v2.3.so\n",
      "Resolving storage.googleapis.com (storage.googleapis.com)... 216.58.197.176, 216.58.197.208, 172.217.27.80, ...\n",
      "Connecting to storage.googleapis.com (storage.googleapis.com)|216.58.197.176|:443... connected.\n",
      "HTTP request sent, awaiting response... 200 OK\n",
      "Length: 45163384 (43M) [application/octet-stream]\n",
      "Saving to: ‘football/third_party/gfootball_engine/lib/prebuilt_gameplayfootball.so’\n",
      "\n",
      "football/third_part 100%[===================>]  43.07M  10.9MB/s    in 4.0s    \n",
      "\n",
      "2020-11-08 07:27:11 (10.8 MB/s) - ‘football/third_party/gfootball_engine/lib/prebuilt_gameplayfootball.so’ saved [45163384/45163384]\n",
      "\n",
      "Processing /notebooks/kaggle/gfootball/football\n",
      "Requirement already satisfied: pygame==1.9.6 in /opt/conda/lib/python3.7/site-packages (from gfootball==2.3) (1.9.6)\n",
      "Requirement already satisfied: opencv-python in /opt/conda/lib/python3.7/site-packages (from gfootball==2.3) (4.4.0.44)\n",
      "Requirement already satisfied: scipy in /opt/conda/lib/python3.7/site-packages (from gfootball==2.3) (1.4.1)\n",
      "Requirement already satisfied: gym>=0.11.0 in /opt/conda/lib/python3.7/site-packages (from gfootball==2.3) (0.17.3)\n",
      "Requirement already satisfied: absl-py in /opt/conda/lib/python3.7/site-packages (from gfootball==2.3) (0.10.0)\n",
      "Requirement already satisfied: wheel in /opt/conda/lib/python3.7/site-packages (from gfootball==2.3) (0.34.2)\n",
      "Requirement already satisfied: numpy>=1.14.5 in /opt/conda/lib/python3.7/site-packages (from opencv-python->gfootball==2.3) (1.18.5)\n",
      "Requirement already satisfied: pyglet<=1.5.0,>=1.4.0 in /opt/conda/lib/python3.7/site-packages (from gym>=0.11.0->gfootball==2.3) (1.5.0)\n",
      "Requirement already satisfied: cloudpickle<1.7.0,>=1.2.0 in /opt/conda/lib/python3.7/site-packages (from gym>=0.11.0->gfootball==2.3) (1.3.0)\n",
      "Requirement already satisfied: six in /opt/conda/lib/python3.7/site-packages (from absl-py->gfootball==2.3) (1.14.0)\n",
      "Requirement already satisfied: future in /opt/conda/lib/python3.7/site-packages (from pyglet<=1.5.0,>=1.4.0->gym>=0.11.0->gfootball==2.3) (0.18.2)\n",
      "Building wheels for collected packages: gfootball\n",
      "  Building wheel for gfootball (setup.py) ... \u001b[?25ldone\n",
      "\u001b[?25h  Created wheel for gfootball: filename=gfootball-2.3-cp37-cp37m-linux_x86_64.whl size=38649989 sha256=35914fc255e917f0198bf8b62596e4b1736d4fc28d6aa519ca0980aacbd86dec\n",
      "  Stored in directory: /tmp/pip-ephem-wheel-cache-72akx_it/wheels/2e/fa/d3/e08f039bbd2ffb7dc6fdc617e25eb16978d5b56f9e2f5638dc\n",
      "Successfully built gfootball\n",
      "Installing collected packages: gfootball\n",
      "  Attempting uninstall: gfootball\n",
      "    Found existing installation: gfootball 2.3\n",
      "    Uninstalling gfootball-2.3:\n",
      "      Successfully uninstalled gfootball-2.3\n",
      "Successfully installed gfootball-2.3\n"
     ]
    }
   ],
   "source": [
    "# Install:\n",
    "# Kaggle environments.\n",
    "!git clone https://github.com/Kaggle/kaggle-environments.git\n",
    "!cd kaggle-environments && pip install .\n",
    "\n",
    "# GFootball environment.\n",
    "!apt-get update -y\n",
    "!apt-get install -y libsdl2-gfx-dev libsdl2-ttf-dev\n",
    "\n",
    "# Make sure that the Branch in git clone and in wget call matches !!\n",
    "!git clone -b v2.3 https://github.com/google-research/football.git\n",
    "!mkdir -p football/third_party/gfootball_engine/lib\n",
    "\n",
    "!wget https://storage.googleapis.com/gfootball/prebuilt_gameplayfootball_v2.3.so -O football/third_party/gfootball_engine/lib/prebuilt_gameplayfootball.so\n",
    "!cd football && GFOOTBALL_USE_PREBUILT_SO=1 pip3 install ."
   ]
  },
  {
   "cell_type": "markdown",
   "metadata": {},
   "source": [
    "## Install"
   ]
  },
  {
   "cell_type": "code",
   "execution_count": 2,
   "metadata": {},
   "outputs": [
    {
     "name": "stdout",
     "output_type": "stream",
     "text": [
      "Requirement already satisfied: pfrl==0.1.0 in /opt/conda/lib/python3.7/site-packages (0.1.0)\n",
      "Requirement already satisfied: gym>=0.9.7 in /opt/conda/lib/python3.7/site-packages (from pfrl==0.1.0) (0.17.3)\n",
      "Requirement already satisfied: torch>=1.3.0 in /opt/conda/lib/python3.7/site-packages (from pfrl==0.1.0) (1.6.0)\n",
      "Requirement already satisfied: pillow in /opt/conda/lib/python3.7/site-packages (from pfrl==0.1.0) (8.0.0)\n",
      "Requirement already satisfied: numpy>=1.10.4 in /opt/conda/lib/python3.7/site-packages (from pfrl==0.1.0) (1.18.5)\n",
      "Requirement already satisfied: pyglet<=1.5.0,>=1.4.0 in /opt/conda/lib/python3.7/site-packages (from gym>=0.9.7->pfrl==0.1.0) (1.5.0)\n",
      "Requirement already satisfied: cloudpickle<1.7.0,>=1.2.0 in /opt/conda/lib/python3.7/site-packages (from gym>=0.9.7->pfrl==0.1.0) (1.3.0)\n",
      "Requirement already satisfied: scipy in /opt/conda/lib/python3.7/site-packages (from gym>=0.9.7->pfrl==0.1.0) (1.4.1)\n",
      "Requirement already satisfied: future in /opt/conda/lib/python3.7/site-packages (from torch>=1.3.0->pfrl==0.1.0) (0.18.2)\n"
     ]
    }
   ],
   "source": [
    "!pip install pfrl==0.1.0"
   ]
  },
  {
   "cell_type": "code",
   "execution_count": 3,
   "metadata": {},
   "outputs": [],
   "source": [
    "# ------------------ install torch_geometric begin -----------------\n",
    "try:\n",
    "    import torch_geometric\n",
    "except:\n",
    "    import subprocess\n",
    "    import torch\n",
    "\n",
    "    nvcc_stdout = str(subprocess.check_output(['nvcc', '-V']))\n",
    "    tmp = nvcc_stdout[nvcc_stdout.rfind('release') + len('release') + 1:]\n",
    "    cuda_version = tmp[:tmp.find(',')]\n",
    "    cuda = {\n",
    "            '9.2': 'cu92',\n",
    "            '10.1': 'cu101',\n",
    "            '10.2': 'cu102',\n",
    "            }\n",
    "\n",
    "    CUDA = cuda[cuda_version]\n",
    "    TORCH = torch.__version__.split('.')\n",
    "    TORCH[-1] = '0'\n",
    "    TORCH = '.'.join(TORCH)\n",
    "\n",
    "    install1 = 'pip install torch-scatter==latest+' + CUDA + ' -f https://pytorch-geometric.com/whl/torch-' + TORCH + '.html'\n",
    "    install2 = 'pip install torch-sparse==latest+' + CUDA + ' -f https://pytorch-geometric.com/whl/torch-' + TORCH + '.html'\n",
    "    install3 = 'pip install torch-cluster==latest+' + CUDA + ' -f https://pytorch-geometric.com/whl/torch-' + TORCH + '.html'\n",
    "    install4 = 'pip install torch-spline-conv==latest+' + CUDA + ' -f https://pytorch-geometric.com/whl/torch-' + TORCH + '.html'\n",
    "    install5 = 'pip install torch-geometric'\n",
    "\n",
    "    subprocess.run(install1.split())\n",
    "    subprocess.run(install2.split())\n",
    "    subprocess.run(install3.split())\n",
    "    subprocess.run(install4.split())\n",
    "    subprocess.run(install5.split())\n",
    "# ------------------ install torch_geometric end -----------------"
   ]
  },
  {
   "cell_type": "code",
   "execution_count": 4,
   "metadata": {},
   "outputs": [],
   "source": [
    "import os\n",
    "import cv2\n",
    "import sys\n",
    "import glob \n",
    "import random\n",
    "import json\n",
    "import pickle\n",
    "import imageio\n",
    "import pathlib\n",
    "import collections\n",
    "from collections import deque\n",
    "import numpy as np\n",
    "import pandas as pd\n",
    "import argparse\n",
    "from IPython.display import clear_output\n",
    "import matplotlib.pyplot as plt\n",
    "import seaborn as sns\n",
    "from joblib import Parallel, delayed\n",
    "sns.set()\n",
    "%matplotlib inline\n",
    "\n",
    "from gym import spaces\n",
    "from tqdm import tqdm\n",
    "from logging import getLogger, StreamHandler, FileHandler, DEBUG, INFO\n",
    "from typing import Union, Callable, List, Tuple, Iterable, Any, Dict\n",
    "from dataclasses import dataclass\n",
    "from IPython.display import Image, display\n",
    "sns.set()\n",
    "\n",
    "\n",
    "# PFRL\n",
    "import pfrl\n",
    "from pfrl.agents import CategoricalDoubleDQN\n",
    "from pfrl import experiments\n",
    "from pfrl import explorers\n",
    "from pfrl import nn as pnn\n",
    "from pfrl import utils\n",
    "from pfrl import replay_buffers\n",
    "from pfrl.wrappers import atari_wrappers\n",
    "from pfrl.q_functions import DistributionalDuelingDQN\n",
    "\n",
    "# PyTorch\n",
    "import torch\n",
    "from torch import nn\n",
    "import torch.nn.functional as F\n",
    "\n",
    "# PyTorch geometric\n",
    "from torch_geometric.data import Data, DataLoader\n",
    "from torch_geometric.nn import RGCNConv\n",
    "from torch_geometric.data import InMemoryDataset\n",
    "\n",
    "# Env\n",
    "import gym\n",
    "import gfootball\n",
    "import gfootball.env as football_env\n",
    "from gfootball.env import observation_preprocessing\n",
    "from gfootball.env.wrappers import Simple115StateWrapper"
   ]
  },
  {
   "cell_type": "markdown",
   "metadata": {},
   "source": [
    "## Config"
   ]
  },
  {
   "cell_type": "code",
   "execution_count": 5,
   "metadata": {},
   "outputs": [
    {
     "name": "stdout",
     "output_type": "stream",
     "text": [
      "True\n"
     ]
    }
   ],
   "source": [
    "# Check we can use GPU\n",
    "print(torch.cuda.is_available())\n",
    "\n",
    "# set gpu id\n",
    "if torch.cuda.is_available(): \n",
    "    # NOTE: it is not number of gpu but id which start from 0\n",
    "    gpu = 0\n",
    "else:\n",
    "    # cpu=>-1\n",
    "    gpu = -1"
   ]
  },
  {
   "cell_type": "code",
   "execution_count": 6,
   "metadata": {},
   "outputs": [],
   "source": [
    "# set logger\n",
    "def logger_config():\n",
    "    logger = getLogger(__name__)\n",
    "    handler = StreamHandler()\n",
    "    handler.setLevel(\"DEBUG\")\n",
    "    logger.setLevel(\"DEBUG\")\n",
    "    logger.addHandler(handler)\n",
    "    logger.propagate = False\n",
    "\n",
    "    filepath = './result.log'\n",
    "    file_handler = FileHandler(filepath)\n",
    "    logger.addHandler(file_handler)\n",
    "    return logger\n",
    "\n",
    "logger = logger_config()"
   ]
  },
  {
   "cell_type": "code",
   "execution_count": 7,
   "metadata": {},
   "outputs": [],
   "source": [
    "# fixed random seed\n",
    "# but this is NOT enough to fix the result of rewards.Please tell me the reason.\n",
    "def seed_everything(seed=1234):\n",
    "    random.seed(seed)\n",
    "    np.random.seed(seed)\n",
    "    torch.manual_seed(seed)\n",
    "    torch.cuda.manual_seed(seed)\n",
    "    torch.backends.cudnn.deterministic = True\n",
    "    utils.set_random_seed(seed)  # for PFRL\n",
    "    \n",
    "# Set a random seed used in PFRL.\n",
    "seed = 5046\n",
    "seed_everything(seed)\n",
    "\n",
    "# Set different random seeds for train and test envs.\n",
    "train_seed = seed\n",
    "test_seed = 2 ** 31 - 1 - seed"
   ]
  },
  {
   "cell_type": "markdown",
   "metadata": {},
   "source": [
    "## Environment"
   ]
  },
  {
   "cell_type": "code",
   "execution_count": 8,
   "metadata": {},
   "outputs": [],
   "source": [
    "env = football_env.create_environment(\n",
    "    env_name='11_vs_11_easy_stochastic',  # easy mode\n",
    "    stacked=False,\n",
    "    representation='simple115v2',           # SMM\n",
    "    rewards='scoring, checkpoints',\n",
    "    write_goal_dumps=False,\n",
    "    write_full_episode_dumps=False,\n",
    "    render=False,\n",
    "    write_video=False,\n",
    "    dump_frequency=1,\n",
    "    logdir='./',\n",
    "    extra_players=None,\n",
    "    number_of_left_players_agent_controls=1,\n",
    "    number_of_right_players_agent_controls=0,\n",
    ")"
   ]
  },
  {
   "cell_type": "code",
   "execution_count": 9,
   "metadata": {},
   "outputs": [],
   "source": [
    "array = env.reset()"
   ]
  },
  {
   "cell_type": "code",
   "execution_count": 10,
   "metadata": {},
   "outputs": [],
   "source": [
    "obs, _, _, info = env.step(1)"
   ]
  },
  {
   "cell_type": "markdown",
   "metadata": {},
   "source": [
    "## GCN-Policy"
   ]
  },
  {
   "cell_type": "markdown",
   "metadata": {},
   "source": [
    "The flag to distinguish left players, right players, and the ball.\n",
    "\n",
    "* left players: 0\n",
    "* right players: 1\n",
    "* ball: 2"
   ]
  },
  {
   "cell_type": "code",
   "execution_count": 11,
   "metadata": {},
   "outputs": [],
   "source": [
    "relations_dict = {\n",
    "    (0., 0.): 0, # left player -> left player\n",
    "    (0., 1.): 1, # left player -> right player\n",
    "    (0., 2.): 2, # left player -> ball\n",
    "    (1., 0.): 3, # right player -> left player\n",
    "    (1., 1.): 4, # right player -> right player\n",
    "    (1., 2.): 5, # right player -> ball\n",
    "    (2., 0.): 6, # ball -> left player\n",
    "    (2., 1.): 7, # ball -> right player\n",
    "}"
   ]
  },
  {
   "cell_type": "code",
   "execution_count": 43,
   "metadata": {},
   "outputs": [],
   "source": [
    "def create_graph_from_observation(state, action=None):\n",
    "    array = state[0]\n",
    "    \n",
    "    left_coordinations = np.concatenate([array[:22].reshape(11, 2), np.zeros((11, 1))], axis=-1)\n",
    "    left_directions = np.concatenate([array[22:44].reshape(11, 2), np.zeros((11, 1))], axis=-1)\n",
    "    right_coordinations = np.concatenate([array[44:66].reshape(11, 2), np.zeros((11, 1))], axis=-1)\n",
    "    right_directions = np.concatenate([array[66:88].reshape(11, 2), np.zeros((11, 1))], axis=-1)\n",
    "    ball_coordination = array[88:91].reshape([1, 3])\n",
    "    ball_direction = array[91:94].reshape([1, 3])\n",
    "    ball_ownership = array[94:97] # none, left, right\n",
    "    active_player = array[97:108].reshape([11, 1])\n",
    "    game_mode = array[108:]\n",
    "\n",
    "    # Node features\n",
    "    left_features = np.concatenate([\n",
    "        0*np.ones((11, 1)),\n",
    "        left_coordinations,\n",
    "        left_directions,\n",
    "        ball_ownership[1]*np.ones((11, 1)),\n",
    "        active_player,\n",
    "    ], axis=-1)\n",
    "    right_features = np.concatenate([\n",
    "        1*np.ones((11, 1)),\n",
    "        right_coordinations,\n",
    "        right_directions,\n",
    "        ball_ownership[2]*np.ones((11, 1)),\n",
    "        np.zeros((11, 1)),\n",
    "    ], axis=-1)\n",
    "    ball_features = np.concatenate([\n",
    "        2*np.ones((1, 1)),\n",
    "        ball_coordination,\n",
    "        ball_direction,\n",
    "        np.zeros((1, 1)),\n",
    "        np.zeros((1, 1)),\n",
    "    ], axis=-1)\n",
    "\n",
    "    features = np.concatenate([left_features, right_features, ball_features], axis=0)\n",
    "\n",
    "    # Edges and relations\n",
    "    X, Y = np.meshgrid(np.arange(len(features)), np.arange(len(features)))\n",
    "    all_combinations = np.vstack([X.flatten(), Y.flatten()]).T\n",
    "    edge_index = np.array(\n",
    "        [combination for combination in all_combinations if not combination[0] == combination[1]]\n",
    "    ).T\n",
    "    types_for_edge_index = features[edge_index][:,:,0]\n",
    "    relations = [relations_dict[tuple(types)] for types in types_for_edge_index.T]\n",
    "\n",
    "    # numpy array to torch tensor\n",
    "    features = torch.tensor(features, dtype=torch.float).contiguous()\n",
    "    edge_index = torch.tensor(edge_index, dtype=torch.long).contiguous()\n",
    "    relations = torch.tensor(relations, dtype=torch.long).contiguous()\n",
    "\n",
    "    if action is None:\n",
    "        graph = Data(x=features, edge_index=edge_index, edge_type=relations)\n",
    "\n",
    "    else:\n",
    "        graph = Data(x=features, edge_index=edge_index, edge_type=relations, y=torch.tensor(action, dtype=torch.long))\n",
    "\n",
    "    return graph"
   ]
  },
  {
   "cell_type": "code",
   "execution_count": 29,
   "metadata": {},
   "outputs": [],
   "source": [
    "class Policy(torch.nn.Module):\n",
    "    def __init__(self, num_features, num_relations):\n",
    "        super().__init__()\n",
    "        self.conv1 = RGCNConv(num_features - 2, 256, num_relations=num_relations)\n",
    "        #self.conv2 = RGCNConv(128, 256, num_relations=num_relations)\n",
    "        self.fc1 = nn.Linear(256, 256)\n",
    "        self.fc2 = nn.Linear(256, 19)\n",
    "\n",
    "    def forward(self, data):\n",
    "        x, edge_index, edge_type = data.x, data.edge_index, data.edge_type\n",
    "        flag = x[:,0]\n",
    "        is_active = x[:,-1]\n",
    "        x = x[:,1:-1]\n",
    "\n",
    "        x = self.conv1(x, edge_index, edge_type)\n",
    "        x = F.relu(x)\n",
    "\n",
    "        #x = self.conv2(x, edge_index, edge_type)\n",
    "        #x = F.relu(x)\n",
    "        \n",
    "        x = self.fc1(x)\n",
    "        x = F.relu(x)\n",
    "\n",
    "        x = self.fc2(x)\n",
    "\n",
    "        return F.log_softmax(x[is_active.bool()], dim=1)"
   ]
  },
  {
   "cell_type": "markdown",
   "metadata": {},
   "source": [
    "## Supervised Learning"
   ]
  },
  {
   "cell_type": "code",
   "execution_count": 14,
   "metadata": {},
   "outputs": [],
   "source": [
    "class FootballDataset(InMemoryDataset):\n",
    "    def __init__(self, root, raw_file_names, processed_file_name, transform=None, pre_transform=None):\n",
    "        self._raw_file_names = raw_file_names\n",
    "        self._processed_file_names = [processed_file_name]\n",
    "        super(FootballDataset, self).__init__(root, transform, pre_transform)\n",
    "        self.data, self.slices = torch.load(self.processed_paths[0])\n",
    "\n",
    "    @property\n",
    "    def raw_file_names(self):\n",
    "        return self._raw_file_names\n",
    "\n",
    "    @property\n",
    "    def processed_file_names(self):\n",
    "        return self._processed_file_names\n",
    "    \n",
    "    def process(self):\n",
    "        data_list = []\n",
    "        for raw_path in tqdm(self.raw_paths): # To fit in memory\n",
    "            with open(raw_path, 'rb') as f:\n",
    "                datum = pickle.load(f)\n",
    "            for state, action in zip(datum['state'], datum['action']):\n",
    "                if action != []:\n",
    "                    data_list.append(create_graph_from_observation(state, action))\n",
    "                    \n",
    "        data, slices = self.collate(data_list)\n",
    "        torch.save((data, slices), self.processed_paths[0])"
   ]
  },
  {
   "cell_type": "code",
   "execution_count": 15,
   "metadata": {},
   "outputs": [],
   "source": [
    "random.seed(10)\n",
    "all_file_names = sorted([pathlib.Path(path).name for path in glob.glob('./dataset/raw/*.pickle')])\n",
    "random.shuffle(all_file_names)"
   ]
  },
  {
   "cell_type": "code",
   "execution_count": 16,
   "metadata": {},
   "outputs": [],
   "source": [
    "def process(i, file_names):\n",
    "    _ = FootballDataset('./dataset', file_names, 'dataset-{}.pt'.format(i))"
   ]
  },
  {
   "cell_type": "code",
   "execution_count": 17,
   "metadata": {},
   "outputs": [
    {
     "name": "stderr",
     "output_type": "stream",
     "text": [
      "[Parallel(n_jobs=2)]: Using backend LokyBackend with 2 concurrent workers.\n",
      "[Parallel(n_jobs=2)]: Done   1 tasks      | elapsed:  3.1min\n",
      "/opt/conda/lib/python3.7/site-packages/joblib/externals/loky/process_executor.py:706: UserWarning: A worker stopped while some jobs were given to the executor. This can be caused by a too short worker timeout or by a memory leak.\n",
      "  \"timeout or by a memory leak.\", UserWarning\n",
      "[Parallel(n_jobs=2)]: Done   4 tasks      | elapsed:  6.9min\n",
      "[Parallel(n_jobs=2)]: Done   9 tasks      | elapsed: 15.7min\n",
      "[Parallel(n_jobs=2)]: Done  14 tasks      | elapsed: 24.3min\n",
      "[Parallel(n_jobs=2)]: Done  21 tasks      | elapsed: 38.3min\n",
      "[Parallel(n_jobs=2)]: Done  28 tasks      | elapsed: 49.6min\n",
      "[Parallel(n_jobs=2)]: Done  37 tasks      | elapsed: 65.6min\n",
      "[Parallel(n_jobs=2)]: Done  46 out of  46 | elapsed: 80.1min finished\n"
     ]
    },
    {
     "data": {
      "text/plain": [
       "[None,\n",
       " None,\n",
       " None,\n",
       " None,\n",
       " None,\n",
       " None,\n",
       " None,\n",
       " None,\n",
       " None,\n",
       " None,\n",
       " None,\n",
       " None,\n",
       " None,\n",
       " None,\n",
       " None,\n",
       " None,\n",
       " None,\n",
       " None,\n",
       " None,\n",
       " None,\n",
       " None,\n",
       " None,\n",
       " None,\n",
       " None,\n",
       " None,\n",
       " None,\n",
       " None,\n",
       " None,\n",
       " None,\n",
       " None,\n",
       " None,\n",
       " None,\n",
       " None,\n",
       " None,\n",
       " None,\n",
       " None,\n",
       " None,\n",
       " None,\n",
       " None,\n",
       " None,\n",
       " None,\n",
       " None,\n",
       " None,\n",
       " None,\n",
       " None,\n",
       " None]"
      ]
     },
     "execution_count": 17,
     "metadata": {},
     "output_type": "execute_result"
    }
   ],
   "source": [
    "processes = []\n",
    "for i, file_names in enumerate(zip(*[iter(all_file_names)]*100)):\n",
    "    processes.append(delayed(process)(i, file_names))\n",
    "Parallel(n_jobs=2, verbose=10)(processes)"
   ]
  },
  {
   "cell_type": "code",
   "execution_count": 19,
   "metadata": {},
   "outputs": [],
   "source": [
    "def get_dataset(i):\n",
    "    return FootballDataset('./dataset', None, 'dataset-{}.pt'.format(i))"
   ]
  },
  {
   "cell_type": "code",
   "execution_count": 30,
   "metadata": {},
   "outputs": [
    {
     "data": {
      "image/png": "[encoded data removed]",
      "text/plain": [
       "<Figure size 432x288 with 1 Axes>"
      ]
     },
     "metadata": {},
     "output_type": "display_data"
    }
   ],
   "source": [
    "policy = Policy(num_features=9, num_relations=len(relations_dict))\n",
    "optimizer = torch.optim.Adam(policy.parameters(), lr=0.001, weight_decay=5e-4)\n",
    "\n",
    "policy.to('cuda')\n",
    "episode = 0\n",
    "episodes = []\n",
    "steps_val = []\n",
    "losses = []\n",
    "losses_val = []\n",
    "\n",
    "\n",
    "dataset_val = get_dataset(45)\n",
    "loader_val = DataLoader(dataset_val, batch_size=2048, shuffle=True)\n",
    "\n",
    "for dataset_num in range(45):\n",
    "    dataset = get_dataset(dataset_num)\n",
    "    loader = DataLoader(dataset, batch_size=1024, shuffle=True)\n",
    "    \n",
    "    policy.eval()\n",
    "    losses_for_avg = []\n",
    "    for data in loader_val:\n",
    "        data.to('cuda')\n",
    "        optimizer.zero_grad()\n",
    "        log_softmax = policy(data)\n",
    "        loss = F.nll_loss(log_softmax, data.y)\n",
    "        losses_for_avg.append(loss.to('cpu').detach().numpy())\n",
    "    episodes.append(episode)\n",
    "    losses_val.append(np.mean(losses_for_avg))\n",
    "    \n",
    "    policy.train()\n",
    "    losses_for_avg = []\n",
    "    for data in loader:\n",
    "        data.to('cuda')\n",
    "        optimizer.zero_grad()\n",
    "        log_softmax = policy(data)\n",
    "        loss = F.nll_loss(log_softmax, data.y)\n",
    "        loss.backward()\n",
    "        optimizer.step()\n",
    "        losses_for_avg.append(loss.to('cpu').detach().numpy())\n",
    "    losses.append(np.mean(losses_for_avg))\n",
    "    \n",
    "    episode += 100\n",
    "\n",
    "    clear_output()\n",
    "    plt.plot(episodes, losses, label='train')\n",
    "    plt.plot(episodes, losses_val, label='test')\n",
    "    plt.grid()\n",
    "    plt.legend()\n",
    "    plt.show()\n",
    "    plt.close()"
   ]
  },
  {
   "cell_type": "code",
   "execution_count": 42,
   "metadata": {},
   "outputs": [],
   "source": [
    "policy_path = 'policy.pt'\n",
    "torch.save(policy.to('cpu').state_dict(), policy_path)"
   ]
  },
  {
   "cell_type": "markdown",
   "metadata": {},
   "source": [
    "## Trial"
   ]
  },
  {
   "cell_type": "code",
   "execution_count": 85,
   "metadata": {},
   "outputs": [],
   "source": [
    "def agent(obs):\n",
    "    global policy\n",
    "    \n",
    "    # Get observations for the first (and only one) player we control.\n",
    "    #obs = Simple115StateWrapper.convert_observation(obs['players_raw'], True)\n",
    "    graph = create_graph_from_observation(obs)\n",
    "    actions = policy(graph)\n",
    "    action = int(np.argmax(actions.detach().numpy()))\n",
    "    return [action]"
   ]
  },
  {
   "cell_type": "code",
   "execution_count": 107,
   "metadata": {},
   "outputs": [],
   "source": [
    "env = football_env.create_environment(\n",
    "    env_name='11_vs_11_easy_stochastic',  # easy mode\n",
    "    stacked=False,\n",
    "    representation='simple115v2',\n",
    "    rewards='scoring',\n",
    "    write_goal_dumps=False,\n",
    "    write_full_episode_dumps=False,\n",
    "    render=False,\n",
    "    write_video=False,\n",
    "    dump_frequency=1,\n",
    "    logdir='./',\n",
    "    extra_players=None,\n",
    "    number_of_left_players_agent_controls=1,\n",
    "    number_of_right_players_agent_controls=0\n",
    ")"
   ]
  },
  {
   "cell_type": "code",
   "execution_count": null,
   "metadata": {},
   "outputs": [
    {
     "name": "stderr",
     "output_type": "stream",
     "text": [
      "  2%|▏         | 1/50 [00:36<30:05, 36.86s/it]"
     ]
    },
    {
     "name": "stdout",
     "output_type": "stream",
     "text": [
      "(4, 0)\n"
     ]
    },
    {
     "name": "stderr",
     "output_type": "stream",
     "text": [
      "  4%|▍         | 2/50 [01:13<29:22, 36.72s/it]"
     ]
    },
    {
     "name": "stdout",
     "output_type": "stream",
     "text": [
      "(3, 0)\n"
     ]
    },
    {
     "name": "stderr",
     "output_type": "stream",
     "text": [
      "  6%|▌         | 3/50 [01:50<28:50, 36.82s/it]"
     ]
    },
    {
     "name": "stdout",
     "output_type": "stream",
     "text": [
      "(3, 0)\n"
     ]
    },
    {
     "name": "stderr",
     "output_type": "stream",
     "text": [
      "  8%|▊         | 4/50 [02:27<28:23, 37.02s/it]"
     ]
    },
    {
     "name": "stdout",
     "output_type": "stream",
     "text": [
      "(4, 0)\n"
     ]
    },
    {
     "name": "stderr",
     "output_type": "stream",
     "text": [
      " 10%|█         | 5/50 [03:04<27:39, 36.88s/it]"
     ]
    },
    {
     "name": "stdout",
     "output_type": "stream",
     "text": [
      "(1, 0)\n"
     ]
    },
    {
     "name": "stderr",
     "output_type": "stream",
     "text": [
      " 12%|█▏        | 6/50 [03:41<27:09, 37.03s/it]"
     ]
    },
    {
     "name": "stdout",
     "output_type": "stream",
     "text": [
      "(1, 0)\n"
     ]
    },
    {
     "name": "stderr",
     "output_type": "stream",
     "text": [
      " 14%|█▍        | 7/50 [04:18<26:34, 37.07s/it]"
     ]
    },
    {
     "name": "stdout",
     "output_type": "stream",
     "text": [
      "(3, 0)\n"
     ]
    },
    {
     "name": "stderr",
     "output_type": "stream",
     "text": [
      " 16%|█▌        | 8/50 [04:56<25:59, 37.13s/it]"
     ]
    },
    {
     "name": "stdout",
     "output_type": "stream",
     "text": [
      "(0, 0)\n"
     ]
    },
    {
     "name": "stderr",
     "output_type": "stream",
     "text": [
      " 18%|█▊        | 9/50 [05:33<25:20, 37.09s/it]"
     ]
    },
    {
     "name": "stdout",
     "output_type": "stream",
     "text": [
      "(2, 1)\n"
     ]
    },
    {
     "name": "stderr",
     "output_type": "stream",
     "text": [
      " 20%|██        | 10/50 [06:10<24:40, 37.02s/it]"
     ]
    },
    {
     "name": "stdout",
     "output_type": "stream",
     "text": [
      "(2, 0)\n"
     ]
    },
    {
     "name": "stderr",
     "output_type": "stream",
     "text": [
      " 22%|██▏       | 11/50 [06:47<24:05, 37.08s/it]"
     ]
    },
    {
     "name": "stdout",
     "output_type": "stream",
     "text": [
      "(2, 1)\n"
     ]
    },
    {
     "name": "stderr",
     "output_type": "stream",
     "text": [
      " 24%|██▍       | 12/50 [07:24<23:29, 37.10s/it]"
     ]
    },
    {
     "name": "stdout",
     "output_type": "stream",
     "text": [
      "(4, 1)\n"
     ]
    },
    {
     "name": "stderr",
     "output_type": "stream",
     "text": [
      " 26%|██▌       | 13/50 [08:01<22:53, 37.13s/it]"
     ]
    },
    {
     "name": "stdout",
     "output_type": "stream",
     "text": [
      "(3, 0)\n"
     ]
    },
    {
     "name": "stderr",
     "output_type": "stream",
     "text": [
      " 28%|██▊       | 14/50 [08:38<22:18, 37.19s/it]"
     ]
    },
    {
     "name": "stdout",
     "output_type": "stream",
     "text": [
      "(1, 0)\n"
     ]
    },
    {
     "name": "stderr",
     "output_type": "stream",
     "text": [
      " 30%|███       | 15/50 [09:18<22:02, 37.78s/it]"
     ]
    },
    {
     "name": "stdout",
     "output_type": "stream",
     "text": [
      "(1, 1)\n"
     ]
    },
    {
     "name": "stderr",
     "output_type": "stream",
     "text": [
      " 32%|███▏      | 16/50 [09:57<21:39, 38.22s/it]"
     ]
    },
    {
     "name": "stdout",
     "output_type": "stream",
     "text": [
      "(2, 1)\n"
     ]
    },
    {
     "name": "stderr",
     "output_type": "stream",
     "text": [
      " 34%|███▍      | 17/50 [10:36<21:09, 38.47s/it]"
     ]
    },
    {
     "name": "stdout",
     "output_type": "stream",
     "text": [
      "(2, 0)\n"
     ]
    },
    {
     "name": "stderr",
     "output_type": "stream",
     "text": [
      " 36%|███▌      | 18/50 [11:13<20:20, 38.13s/it]"
     ]
    },
    {
     "name": "stdout",
     "output_type": "stream",
     "text": [
      "(4, 1)\n"
     ]
    },
    {
     "name": "stderr",
     "output_type": "stream",
     "text": [
      " 38%|███▊      | 19/50 [11:50<19:31, 37.78s/it]"
     ]
    },
    {
     "name": "stdout",
     "output_type": "stream",
     "text": [
      "(3, 2)\n"
     ]
    },
    {
     "name": "stderr",
     "output_type": "stream",
     "text": [
      " 40%|████      | 20/50 [12:27<18:44, 37.50s/it]"
     ]
    },
    {
     "name": "stdout",
     "output_type": "stream",
     "text": [
      "(3, 0)\n"
     ]
    },
    {
     "name": "stderr",
     "output_type": "stream",
     "text": [
      " 42%|████▏     | 21/50 [13:04<18:03, 37.38s/it]"
     ]
    },
    {
     "name": "stdout",
     "output_type": "stream",
     "text": [
      "(4, 0)\n"
     ]
    },
    {
     "name": "stderr",
     "output_type": "stream",
     "text": [
      " 44%|████▍     | 22/50 [13:41<17:26, 37.37s/it]"
     ]
    },
    {
     "name": "stdout",
     "output_type": "stream",
     "text": [
      "(1, 1)\n"
     ]
    },
    {
     "name": "stderr",
     "output_type": "stream",
     "text": [
      " 46%|████▌     | 23/50 [14:18<16:45, 37.25s/it]"
     ]
    },
    {
     "name": "stdout",
     "output_type": "stream",
     "text": [
      "(1, 1)\n"
     ]
    },
    {
     "name": "stderr",
     "output_type": "stream",
     "text": [
      " 48%|████▊     | 24/50 [14:56<16:12, 37.42s/it]"
     ]
    },
    {
     "name": "stdout",
     "output_type": "stream",
     "text": [
      "(5, 0)\n"
     ]
    },
    {
     "name": "stderr",
     "output_type": "stream",
     "text": [
      " 50%|█████     | 25/50 [15:33<15:32, 37.32s/it]"
     ]
    },
    {
     "name": "stdout",
     "output_type": "stream",
     "text": [
      "(3, 1)\n"
     ]
    }
   ],
   "source": [
    "scores = []\n",
    "for _ in tqdm(range(50)):\n",
    "    obs = env.reset()\n",
    "    rewards = []\n",
    "    while True:\n",
    "        action = agent([obs])\n",
    "        obs, reward, done, info = env.step(action)\n",
    "        rewards.append(reward)\n",
    "        if done:\n",
    "            break\n",
    "    score = (np.sum(np.array(rewards) > 0), np.sum(np.array(rewards) < 0))\n",
    "    print(score)\n",
    "    scores.append(score)"
   ]
  },
  {
   "cell_type": "code",
   "execution_count": 105,
   "metadata": {},
   "outputs": [
    {
     "data": {
      "text/plain": [
       "[<matplotlib.lines.Line2D at 0x7f787be55450>]"
      ]
     },
     "execution_count": 105,
     "metadata": {},
     "output_type": "execute_result"
    },
    {
     "data": {
      "image/png": "[encoded data removed]",
      "text/plain": [
       "<Figure size 432x288 with 1 Axes>"
      ]
     },
     "metadata": {},
     "output_type": "display_data"
    }
   ],
   "source": [
    "plt.plot(rewards)"
   ]
  },
  {
   "cell_type": "code",
   "execution_count": null,
   "metadata": {},
   "outputs": [],
   "source": []
  }
 ],
 "metadata": {
  "kernelspec": {
   "display_name": "Python 3",
   "language": "python",
   "name": "python3"
  },
  "language_info": {
   "codemirror_mode": {
    "name": "ipython",
    "version": 3
   },
   "file_extension": ".py",
   "mimetype": "text/x-python",
   "name": "python",
   "nbconvert_exporter": "python",
   "pygments_lexer": "ipython3",
   "version": "3.7.6"
  },
  "toc": {
   "base_numbering": 1,
   "nav_menu": {},
   "number_sections": true,
   "sideBar": true,
   "skip_h1_title": false,
   "title_cell": "Table of Contents",
   "title_sidebar": "Contents",
   "toc_cell": false,
   "toc_position": {},
   "toc_section_display": true,
   "toc_window_display": false
  }
 },
 "nbformat": 4,
 "nbformat_minor": 4
}
