{
 "cells": [
  {
   "cell_type": "code",
   "execution_count": 1,
   "metadata": {},
   "outputs": [],
   "source": [
    "import json\n",
    "import pathlib\n",
    "import os\n",
    "import pickle\n",
    "import numpy as np\n",
    "from tqdm import tqdm\n",
    "import copy\n",
    "import glob\n",
    "from gfootball.env.wrappers import Simple115StateWrapper"
   ]
  },
  {
   "cell_type": "code",
   "execution_count": 2,
   "metadata": {},
   "outputs": [],
   "source": [
    "episodes_path = [path for path in glob.glob('episodes/*.json') if not '_info' in path]"
   ]
  },
  {
   "cell_type": "code",
   "execution_count": 3,
   "metadata": {},
   "outputs": [],
   "source": [
    "def convert_observation(observation):\n",
    "    return Simple115StateWrapper.convert_observation(observation['players_raw'], True)"
   ]
  },
  {
   "cell_type": "code",
   "execution_count": 4,
   "metadata": {},
   "outputs": [
    {
     "name": "stderr",
     "output_type": "stream",
     "text": [
      "100%|██████████| 2308/2308 [00:00<00:00, 2684.82it/s]\n"
     ]
    }
   ],
   "source": [
    "for episode_path in tqdm(episodes_path):\n",
    "    actions = []\n",
    "    states = []\n",
    "    rewards = []\n",
    "    episode_id = pathlib.Path(episode_path).stem\n",
    "    pickle_path = 'converted_episodes/{}.pickle'.format(episode_id)\n",
    "    if not os.path.isfile(pickle_path):\n",
    "        with open(episode_path, 'rt') as f:\n",
    "            episode_dict = json.load(f)\n",
    "        try:\n",
    "            winner_index = np.argmax(episode_dict['rewards'])\n",
    "            for step in episode_dict['steps']:\n",
    "                actions.append(step[winner_index]['action'])\n",
    "                states.append(convert_observation(step[winner_index]['observation']))\n",
    "                rewards.append(step[winner_index]['reward'])\n",
    "            episode = {\n",
    "                \"action\": actions,\n",
    "                \"state\": states,\n",
    "                \"reward\": rewards\n",
    "            }\n",
    "            with open(pickle_path, 'wb') as f:\n",
    "                pickle.dump(episode, f)\n",
    "        except:\n",
    "            pass"
   ]
  },
  {
   "cell_type": "markdown",
   "metadata": {},
   "source": [
    "## Data Augumentation\n",
    "\n",
    "サッカーは上下対称なので、上下が反転した観測も水増しできる。"
   ]
  },
  {
   "cell_type": "code",
   "execution_count": 5,
   "metadata": {},
   "outputs": [],
   "source": [
    "def reversed_observation(observation):\n",
    "    reversed_observation = copy.deepcopy(observation[0])\n",
    "    reversed_observation[1:22*4:2] *= -1\n",
    "    reversed_observation[22*4+1:22*4+3*2+1:3] *= -1\n",
    "    return reversed_observation[np.newaxis,:]"
   ]
  },
  {
   "cell_type": "code",
   "execution_count": 6,
   "metadata": {},
   "outputs": [],
   "source": [
    "_reversed_actions_dict = {i: i for i in range(19)}\n",
    "_reversed_actions_dict[2] = 8\n",
    "_reversed_actions_dict[8] = 2\n",
    "_reversed_actions_dict[3] = 7\n",
    "_reversed_actions_dict[7] = 3\n",
    "_reversed_actions_dict[4] = 6\n",
    "_reversed_actions_dict[6] = 4\n",
    "\n",
    "def reversed_action(action):\n",
    "    if action == []:\n",
    "        return []\n",
    "    else:\n",
    "        return [_reversed_actions_dict[action[0]]]"
   ]
  },
  {
   "cell_type": "code",
   "execution_count": 7,
   "metadata": {},
   "outputs": [],
   "source": [
    "episodes_path = [path for path in glob.glob('./converted_episodes/*.pickle') if not 'r' in pathlib.Path(path).stem]"
   ]
  },
  {
   "cell_type": "code",
   "execution_count": 8,
   "metadata": {},
   "outputs": [
    {
     "name": "stderr",
     "output_type": "stream",
     "text": [
      "100%|██████████| 2300/2300 [00:01<00:00, 1227.97it/s]\n"
     ]
    }
   ],
   "source": [
    "for path in tqdm(episodes_path):\n",
    "    stem = pathlib.Path(path).stem\n",
    "    path_reversed = path.replace('.pickle', 'r.pickle')\n",
    "    if not pathlib.Path(path_reversed).is_file():\n",
    "        with open(path, 'rb') as f:\n",
    "            episode = pickle.load(f)\n",
    "        reversed_episode = {\n",
    "            \"action\": [reversed_action(action) for action in actions],\n",
    "            \"state\": [reversed_observation(state) for state in states],\n",
    "            \"reward\": rewards\n",
    "        }\n",
    "        with open(path_reversed, 'wb') as f:\n",
    "             pickle.dump(reversed_episode, f)"
   ]
  },
  {
   "cell_type": "markdown",
   "metadata": {},
   "source": [
    "## Copy files into dataset dir"
   ]
  },
  {
   "cell_type": "code",
   "execution_count": 10,
   "metadata": {},
   "outputs": [],
   "source": [
    "!cp converted_episodes/*.pickle dataset/raw/"
   ]
  }
 ],
 "metadata": {
  "kernelspec": {
   "display_name": "Python 3",
   "language": "python",
   "name": "python3"
  },
  "language_info": {
   "codemirror_mode": {
    "name": "ipython",
    "version": 3
   },
   "file_extension": ".py",
   "mimetype": "text/x-python",
   "name": "python",
   "nbconvert_exporter": "python",
   "pygments_lexer": "ipython3",
   "version": "3.7.6"
  }
 },
 "nbformat": 4,
 "nbformat_minor": 4
}
